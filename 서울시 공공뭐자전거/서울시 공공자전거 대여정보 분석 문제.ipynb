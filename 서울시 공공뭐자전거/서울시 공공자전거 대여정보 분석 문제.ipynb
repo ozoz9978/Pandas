{
 "cells": [
  {
   "cell_type": "markdown",
   "metadata": {},
   "source": [
    "# 서울시 공공자전거 대여소 정보 분석\n",
    "\n",
    "- 대여소 정보 읽기\n",
    "- 대여소 정보 확인\n",
    "- NA 값이 몇개인지 확인 ==> NA 값이 들어있는 데이터 삭제\n",
    "- 타입 변환 (대여소ID ==> int32, 기준시작일자 ==> 날짜타입) \n",
    ">- 기준시작일에 '개통'이라는 단어를 포함하고 있는 경우 '개통' 단어 삭제\n",
    "- 대여소_구의 목록, 개수 출력\n",
    "- 대여소_구별 거치대 수\n",
    "- 구별 거치대수의 합계, 평균, 최대, 최소 출력하고 거치대가 많은 순으로 합계별 내림차순으로 10개 출력"
   ]
  },
  {
   "cell_type": "code",
   "execution_count": 19,
   "metadata": {},
   "outputs": [],
   "source": [
    "# 대여소 정보 읽기\n",
    "import numpy as np\n",
    "import pandas as pd \n"
   ]
  },
  {
   "cell_type": "code",
   "execution_count": 20,
   "metadata": {},
   "outputs": [],
   "source": [
    "place = pd.read_excel(\"서울특별시 공공자전거 대여소 정보(19.12.9).xlsx\",nrows = 1540)"
   ]
  },
  {
   "cell_type": "markdown",
   "metadata": {},
   "source": [
    "## 대여소 정보 데이터 읽기"
   ]
  },
  {
   "cell_type": "markdown",
   "metadata": {},
   "source": [
    "## NA 값이 몇 개인지 확인\n",
    "\n",
    "- NA값이 들어있는 데이터 삭제"
   ]
  },
  {
   "cell_type": "code",
   "execution_count": 4,
   "metadata": {},
   "outputs": [
    {
     "name": "stdout",
     "output_type": "stream",
     "text": [
      "대여소_구     0\n",
      "대여소ID     0\n",
      "대여소명      0\n",
      "대여소주소     0\n",
      "위도        0\n",
      "경도        0\n",
      "기준시작일자    0\n",
      "거치대수      0\n",
      "dtype: int64\n"
     ]
    }
   ],
   "source": [
    "print(place.isna().sum()) #컬럼별 결측지의 갯수"
   ]
  },
  {
   "cell_type": "code",
   "execution_count": null,
   "metadata": {},
   "outputs": [],
   "source": [
    "print(place[place['대여소ID'].isna()])"
   ]
  },
  {
   "cell_type": "code",
   "execution_count": 6,
   "metadata": {},
   "outputs": [],
   "source": [
    "place.dropna(inplace=True)"
   ]
  },
  {
   "cell_type": "markdown",
   "metadata": {},
   "source": [
    "## 타입 변환\n",
    "\n",
    "- 대여소ID ==> int32\n",
    "- 기준시작일자 ==> 날짜타입"
   ]
  },
  {
   "cell_type": "code",
   "execution_count": 9,
   "metadata": {},
   "outputs": [
    {
     "name": "stdout",
     "output_type": "stream",
     "text": [
      "<class 'pandas.core.frame.DataFrame'>\n",
      "RangeIndex: 1540 entries, 0 to 1539\n",
      "Data columns (total 8 columns):\n",
      " #   Column  Non-Null Count  Dtype  \n",
      "---  ------  --------------  -----  \n",
      " 0   대여소_구   1540 non-null   object \n",
      " 1   대여소ID   1540 non-null   int32  \n",
      " 2   대여소명    1540 non-null   object \n",
      " 3   대여소주소   1540 non-null   object \n",
      " 4   위도      1540 non-null   float64\n",
      " 5   경도      1540 non-null   float64\n",
      " 6   기준시작일자  1540 non-null   object \n",
      " 7   거치대수    1540 non-null   int64  \n",
      "dtypes: float64(2), int32(1), int64(1), object(4)\n",
      "memory usage: 90.4+ KB\n",
      "None\n"
     ]
    }
   ],
   "source": [
    "print(place.info()) "
   ]
  },
  {
   "cell_type": "code",
   "execution_count": 20,
   "metadata": {},
   "outputs": [
    {
     "name": "stdout",
     "output_type": "stream",
     "text": [
      "<class 'pandas.core.frame.DataFrame'>\n",
      "RangeIndex: 1540 entries, 0 to 1539\n",
      "Data columns (total 8 columns):\n",
      " #   Column  Non-Null Count  Dtype         \n",
      "---  ------  --------------  -----         \n",
      " 0   대여소_구   1540 non-null   object        \n",
      " 1   대여소ID   1540 non-null   int32         \n",
      " 2   대여소명    1540 non-null   object        \n",
      " 3   대여소주소   1540 non-null   object        \n",
      " 4   위도      1540 non-null   float64       \n",
      " 5   경도      1540 non-null   float64       \n",
      " 6   기준시작일자  1540 non-null   datetime64[ns]\n",
      " 7   거치대수    1540 non-null   int64         \n",
      "dtypes: datetime64[ns](1), float64(2), int32(1), int64(1), object(3)\n",
      "memory usage: 90.4+ KB\n",
      "None\n"
     ]
    },
    {
     "data": {
      "text/html": [
       "<div>\n",
       "<style scoped>\n",
       "    .dataframe tbody tr th:only-of-type {\n",
       "        vertical-align: middle;\n",
       "    }\n",
       "\n",
       "    .dataframe tbody tr th {\n",
       "        vertical-align: top;\n",
       "    }\n",
       "\n",
       "    .dataframe thead th {\n",
       "        text-align: right;\n",
       "    }\n",
       "</style>\n",
       "<table border=\"1\" class=\"dataframe\">\n",
       "  <thead>\n",
       "    <tr style=\"text-align: right;\">\n",
       "      <th></th>\n",
       "      <th>대여소_구</th>\n",
       "      <th>대여소ID</th>\n",
       "      <th>대여소명</th>\n",
       "      <th>대여소주소</th>\n",
       "      <th>위도</th>\n",
       "      <th>경도</th>\n",
       "      <th>기준시작일자</th>\n",
       "      <th>거치대수</th>\n",
       "    </tr>\n",
       "  </thead>\n",
       "  <tbody>\n",
       "    <tr>\n",
       "      <th>895</th>\n",
       "      <td>중랑구</td>\n",
       "      <td>1421</td>\n",
       "      <td>1421. 신내역 4번출구</td>\n",
       "      <td>서울특별시 중랑구 신내로 지하 232</td>\n",
       "      <td>37.612461</td>\n",
       "      <td>127.103378</td>\n",
       "      <td>2017-04-26 15:07:19</td>\n",
       "      <td>20</td>\n",
       "    </tr>\n",
       "    <tr>\n",
       "      <th>83</th>\n",
       "      <td>서대문구</td>\n",
       "      <td>191</td>\n",
       "      <td>191. 서우빌딩(바른학원)</td>\n",
       "      <td>서울특별시 서대문구 응암로 66</td>\n",
       "      <td>37.578892</td>\n",
       "      <td>126.910736</td>\n",
       "      <td>2016-07-06 12:00:00</td>\n",
       "      <td>10</td>\n",
       "    </tr>\n",
       "    <tr>\n",
       "      <th>24</th>\n",
       "      <td>마포구</td>\n",
       "      <td>125</td>\n",
       "      <td>125. 서강대 남문 옆</td>\n",
       "      <td>서울특별시 마포구 백범로 35</td>\n",
       "      <td>37.549484</td>\n",
       "      <td>126.938950</td>\n",
       "      <td>2015-09-07 10:34:07</td>\n",
       "      <td>15</td>\n",
       "    </tr>\n",
       "    <tr>\n",
       "      <th>339</th>\n",
       "      <td>성동구</td>\n",
       "      <td>525</td>\n",
       "      <td>525. 한양대병원사거리</td>\n",
       "      <td>서울특별시 성동구 행당동 20-2</td>\n",
       "      <td>37.558052</td>\n",
       "      <td>127.040352</td>\n",
       "      <td>2016-06-29 12:00:00</td>\n",
       "      <td>20</td>\n",
       "    </tr>\n",
       "    <tr>\n",
       "      <th>656</th>\n",
       "      <td>강동구</td>\n",
       "      <td>1057</td>\n",
       "      <td>능골근린공원</td>\n",
       "      <td>상일동 482</td>\n",
       "      <td>37.555790</td>\n",
       "      <td>127.173813</td>\n",
       "      <td>2018-09-10 00:00:00</td>\n",
       "      <td>15</td>\n",
       "    </tr>\n",
       "    <tr>\n",
       "      <th>710</th>\n",
       "      <td>강서구</td>\n",
       "      <td>1162</td>\n",
       "      <td>1162. 공항초등학교건너편</td>\n",
       "      <td>서울특별시 강서구 마곡서1로 68</td>\n",
       "      <td>37.562679</td>\n",
       "      <td>126.820473</td>\n",
       "      <td>2017-11-28 10:15:23</td>\n",
       "      <td>10</td>\n",
       "    </tr>\n",
       "    <tr>\n",
       "      <th>1532</th>\n",
       "      <td>종로구</td>\n",
       "      <td>462</td>\n",
       "      <td>신영동삼거리(북악터널방향)</td>\n",
       "      <td>종로구 평창문화로 6-4</td>\n",
       "      <td>37.603512</td>\n",
       "      <td>126.962067</td>\n",
       "      <td>2019-06-20 00:00:00</td>\n",
       "      <td>15</td>\n",
       "    </tr>\n",
       "    <tr>\n",
       "      <th>1012</th>\n",
       "      <td>노원구</td>\n",
       "      <td>1666</td>\n",
       "      <td>1666. 노원소방서인근</td>\n",
       "      <td>서울특별시 노원구 노원로26길 111</td>\n",
       "      <td>37.655781</td>\n",
       "      <td>127.071777</td>\n",
       "      <td>2017-11-28 10:49:40</td>\n",
       "      <td>10</td>\n",
       "    </tr>\n",
       "    <tr>\n",
       "      <th>878</th>\n",
       "      <td>성북구</td>\n",
       "      <td>1375</td>\n",
       "      <td>생명의 전화 종합복지관 앞 교차로</td>\n",
       "      <td>하월곡동 96-1</td>\n",
       "      <td>37.603909</td>\n",
       "      <td>127.037376</td>\n",
       "      <td>2018-12-27 00:00:00</td>\n",
       "      <td>20</td>\n",
       "    </tr>\n",
       "    <tr>\n",
       "      <th>121</th>\n",
       "      <td>영등포구</td>\n",
       "      <td>232</td>\n",
       "      <td>232. 양평우림 이비즈센타 앞</td>\n",
       "      <td>서울특별시 영등포구 양평동3가 14-1</td>\n",
       "      <td>37.525650</td>\n",
       "      <td>126.887817</td>\n",
       "      <td>2016-06-29 12:00:00</td>\n",
       "      <td>20</td>\n",
       "    </tr>\n",
       "  </tbody>\n",
       "</table>\n",
       "</div>"
      ],
      "text/plain": [
       "     대여소_구  대여소ID                대여소명                  대여소주소         위도  \\\n",
       "895    중랑구   1421      1421. 신내역 4번출구   서울특별시 중랑구 신내로 지하 232  37.612461   \n",
       "83    서대문구    191     191. 서우빌딩(바른학원)      서울특별시 서대문구 응암로 66  37.578892   \n",
       "24     마포구    125       125. 서강대 남문 옆       서울특별시 마포구 백범로 35  37.549484   \n",
       "339    성동구    525       525. 한양대병원사거리     서울특별시 성동구 행당동 20-2  37.558052   \n",
       "656    강동구   1057              능골근린공원                상일동 482  37.555790   \n",
       "710    강서구   1162     1162. 공항초등학교건너편     서울특별시 강서구 마곡서1로 68  37.562679   \n",
       "1532   종로구    462      신영동삼거리(북악터널방향)          종로구 평창문화로 6-4  37.603512   \n",
       "1012   노원구   1666       1666. 노원소방서인근   서울특별시 노원구 노원로26길 111  37.655781   \n",
       "878    성북구   1375  생명의 전화 종합복지관 앞 교차로              하월곡동 96-1  37.603909   \n",
       "121   영등포구    232   232. 양평우림 이비즈센타 앞  서울특별시 영등포구 양평동3가 14-1  37.525650   \n",
       "\n",
       "              경도              기준시작일자  거치대수  \n",
       "895   127.103378 2017-04-26 15:07:19    20  \n",
       "83    126.910736 2016-07-06 12:00:00    10  \n",
       "24    126.938950 2015-09-07 10:34:07    15  \n",
       "339   127.040352 2016-06-29 12:00:00    20  \n",
       "656   127.173813 2018-09-10 00:00:00    15  \n",
       "710   126.820473 2017-11-28 10:15:23    10  \n",
       "1532  126.962067 2019-06-20 00:00:00    15  \n",
       "1012  127.071777 2017-11-28 10:49:40    10  \n",
       "878   127.037376 2018-12-27 00:00:00    20  \n",
       "121   126.887817 2016-06-29 12:00:00    20  "
      ]
     },
     "metadata": {},
     "output_type": "display_data"
    }
   ],
   "source": [
    "print(place2.info())\n",
    "display(place2.sample(10)) #sample()은 임의의 샘플을 선택하는 데 사용되고, head()는 데이터의 처음 몇 개의 행을 반환하는 데 사용됩니다"
   ]
  },
  {
   "cell_type": "code",
   "execution_count": 8,
   "metadata": {},
   "outputs": [],
   "source": [
    "place['대여소ID'] = place['대여소ID'].astype('int32')"
   ]
  },
  {
   "cell_type": "code",
   "execution_count": 10,
   "metadata": {},
   "outputs": [],
   "source": [
    "place2=place.copy()"
   ]
  },
  {
   "cell_type": "code",
   "execution_count": 17,
   "metadata": {},
   "outputs": [],
   "source": [
    "place2['기준시작일자'] = pd.to_datetime(place2['기준시작일자']) # 개통들어서"
   ]
  },
  {
   "cell_type": "code",
   "execution_count": 16,
   "metadata": {},
   "outputs": [
    {
     "name": "stdout",
     "output_type": "stream",
     "text": [
      "0\n"
     ]
    }
   ],
   "source": [
    "print(place2['기준시작일자'].str.contains('개통').sum()) # 개통 몇개임?"
   ]
  },
  {
   "cell_type": "code",
   "execution_count": 15,
   "metadata": {},
   "outputs": [],
   "source": [
    "place2['기준시작일자'] = place2['기준시작일자'].replace('개통','',regex=True) #\"regex=true\"를 설정하면 해당 문자열이 정규 표현식으로 해석되어 처리"
   ]
  },
  {
   "cell_type": "markdown",
   "metadata": {},
   "source": [
    "## 대여소_구의 목록, 개수 출력"
   ]
  },
  {
   "cell_type": "code",
   "execution_count": 21,
   "metadata": {},
   "outputs": [
    {
     "name": "stdout",
     "output_type": "stream",
     "text": [
      "['마포구' '서대문구' '영등포구' '중구' '종로구' '광진구' '성동구' '동대문구' '양천구' '용산구' '은평구' '강동구'\n",
      " '강서구' '송파구' '성북구' '중랑구' '강북구' '노원구' '도봉구' '금천구' '구로구' '동작구' '관악구' '서초구'\n",
      " '강남구']\n",
      "25\n"
     ]
    }
   ],
   "source": [
    "print(place['대여소_구'].unique())\n",
    "print(len(place['대여소_구'].unique()))"
   ]
  },
  {
   "cell_type": "markdown",
   "metadata": {},
   "source": [
    "## 대여소_구별 거치대 수"
   ]
  },
  {
   "cell_type": "code",
   "execution_count": 24,
   "metadata": {},
   "outputs": [
    {
     "name": "stdout",
     "output_type": "stream",
     "text": [
      "대여소_구\n",
      "강남구     1218\n",
      "강동구      763\n",
      "강북구      451\n",
      "강서구     1002\n",
      "관악구      640\n",
      "광진구      841\n",
      "구로구      788\n",
      "금천구      560\n",
      "노원구      879\n",
      "도봉구      396\n",
      "동대문구     659\n",
      "동작구      501\n",
      "마포구     1075\n",
      "서대문구     667\n",
      "서초구     1227\n",
      "성동구      780\n",
      "성북구      726\n",
      "송파구     1298\n",
      "양천구      677\n",
      "영등포구    1250\n",
      "용산구      538\n",
      "은평구      716\n",
      "종로구      784\n",
      "중구       493\n",
      "중랑구      616\n",
      "Name: 거치대수, dtype: int64\n",
      "대여소_구\n",
      "송파구     1298\n",
      "영등포구    1250\n",
      "서초구     1227\n",
      "강남구     1218\n",
      "마포구     1075\n",
      "강서구     1002\n",
      "노원구      879\n",
      "광진구      841\n",
      "구로구      788\n",
      "종로구      784\n",
      "성동구      780\n",
      "강동구      763\n",
      "성북구      726\n",
      "은평구      716\n",
      "양천구      677\n",
      "서대문구     667\n",
      "동대문구     659\n",
      "관악구      640\n",
      "중랑구      616\n",
      "금천구      560\n",
      "용산구      538\n",
      "동작구      501\n",
      "중구       493\n",
      "강북구      451\n",
      "도봉구      396\n",
      "Name: 거치대수, dtype: int64\n"
     ]
    }
   ],
   "source": [
    "grouped = place.groupby('대여소_구')\n",
    "print(grouped['거치대수'].sum())\n",
    "print(grouped['거치대수'].sum().sort_values(ascending=False)) # 순서도"
   ]
  },
  {
   "cell_type": "markdown",
   "metadata": {},
   "source": [
    "## 구별 거치대수의 합계, 평균, 최대, 최소 출력하고 거치대가 많은 순으로 합계별 내림차순으로 10개 출력"
   ]
  },
  {
   "cell_type": "code",
   "execution_count": 27,
   "metadata": {},
   "outputs": [
    {
     "data": {
      "text/html": [
       "<div>\n",
       "<style scoped>\n",
       "    .dataframe tbody tr th:only-of-type {\n",
       "        vertical-align: middle;\n",
       "    }\n",
       "\n",
       "    .dataframe tbody tr th {\n",
       "        vertical-align: top;\n",
       "    }\n",
       "\n",
       "    .dataframe thead th {\n",
       "        text-align: right;\n",
       "    }\n",
       "</style>\n",
       "<table border=\"1\" class=\"dataframe\">\n",
       "  <thead>\n",
       "    <tr style=\"text-align: right;\">\n",
       "      <th></th>\n",
       "      <th>sum</th>\n",
       "      <th>mean</th>\n",
       "      <th>max</th>\n",
       "      <th>min</th>\n",
       "    </tr>\n",
       "    <tr>\n",
       "      <th>대여소_구</th>\n",
       "      <th></th>\n",
       "      <th></th>\n",
       "      <th></th>\n",
       "      <th></th>\n",
       "    </tr>\n",
       "  </thead>\n",
       "  <tbody>\n",
       "    <tr>\n",
       "      <th>송파구</th>\n",
       "      <td>1298</td>\n",
       "      <td>13.11</td>\n",
       "      <td>30</td>\n",
       "      <td>7</td>\n",
       "    </tr>\n",
       "    <tr>\n",
       "      <th>영등포구</th>\n",
       "      <td>1250</td>\n",
       "      <td>14.04</td>\n",
       "      <td>40</td>\n",
       "      <td>6</td>\n",
       "    </tr>\n",
       "    <tr>\n",
       "      <th>서초구</th>\n",
       "      <td>1227</td>\n",
       "      <td>13.79</td>\n",
       "      <td>25</td>\n",
       "      <td>7</td>\n",
       "    </tr>\n",
       "    <tr>\n",
       "      <th>강남구</th>\n",
       "      <td>1218</td>\n",
       "      <td>12.30</td>\n",
       "      <td>30</td>\n",
       "      <td>5</td>\n",
       "    </tr>\n",
       "    <tr>\n",
       "      <th>마포구</th>\n",
       "      <td>1075</td>\n",
       "      <td>13.61</td>\n",
       "      <td>40</td>\n",
       "      <td>5</td>\n",
       "    </tr>\n",
       "    <tr>\n",
       "      <th>강서구</th>\n",
       "      <td>1002</td>\n",
       "      <td>11.79</td>\n",
       "      <td>25</td>\n",
       "      <td>6</td>\n",
       "    </tr>\n",
       "    <tr>\n",
       "      <th>노원구</th>\n",
       "      <td>879</td>\n",
       "      <td>12.93</td>\n",
       "      <td>20</td>\n",
       "      <td>7</td>\n",
       "    </tr>\n",
       "    <tr>\n",
       "      <th>광진구</th>\n",
       "      <td>841</td>\n",
       "      <td>14.25</td>\n",
       "      <td>40</td>\n",
       "      <td>5</td>\n",
       "    </tr>\n",
       "    <tr>\n",
       "      <th>구로구</th>\n",
       "      <td>788</td>\n",
       "      <td>12.31</td>\n",
       "      <td>30</td>\n",
       "      <td>5</td>\n",
       "    </tr>\n",
       "    <tr>\n",
       "      <th>종로구</th>\n",
       "      <td>784</td>\n",
       "      <td>11.53</td>\n",
       "      <td>21</td>\n",
       "      <td>5</td>\n",
       "    </tr>\n",
       "  </tbody>\n",
       "</table>\n",
       "</div>"
      ],
      "text/plain": [
       "        sum   mean  max  min\n",
       "대여소_구                       \n",
       "송파구    1298  13.11   30    7\n",
       "영등포구   1250  14.04   40    6\n",
       "서초구    1227  13.79   25    7\n",
       "강남구    1218  12.30   30    5\n",
       "마포구    1075  13.61   40    5\n",
       "강서구    1002  11.79   25    6\n",
       "노원구     879  12.93   20    7\n",
       "광진구     841  14.25   40    5\n",
       "구로구     788  12.31   30    5\n",
       "종로구     784  11.53   21    5"
      ]
     },
     "execution_count": 27,
     "metadata": {},
     "output_type": "execute_result"
    }
   ],
   "source": [
    "result = place.groupby('대여소_구')['거치대수'].agg(['sum','mean','max','min']).sort_values('sum',ascending=False).head(10).round(2)\n",
    "result #round(소수점이하 반올림), sum기준 정렬"
   ]
  },
  {
   "cell_type": "markdown",
   "metadata": {},
   "source": [
    "# 서울시 공공자전거 대여 정보 분석\n",
    "- 대여정보 읽기\n",
    "- 대여정보 확인 (결측치 컬럼 등)\n",
    "- 대여일시, 반납일시를 날짜타입으로 변경\n",
    "- 일자별로 대여 건수 내림차순으로 정렬하여 출력\n",
    "    - Series객체.dt.날짜property\n",
    "- 요일별 대여 건수 확인"
   ]
  },
  {
   "cell_type": "code",
   "execution_count": 6,
   "metadata": {},
   "outputs": [
    {
     "name": "stdout",
     "output_type": "stream",
     "text": [
      "(678830, 11)\n"
     ]
    }
   ],
   "source": [
    "import numpy as np\n",
    "import pandas as pd \n",
    "\n",
    "rent = pd.read_csv('서울특별시 공공자전거 대여정보_201911_2.csv', encoding='cp949')\n",
    "print(rent.shape)"
   ]
  },
  {
   "cell_type": "markdown",
   "metadata": {},
   "source": [
    "## 대여 정보 데이터 읽기"
   ]
  },
  {
   "cell_type": "markdown",
   "metadata": {},
   "source": [
    "## 대여정보 확인"
   ]
  },
  {
   "cell_type": "markdown",
   "metadata": {},
   "source": [
    "## 대여일시, 반납일시를 날짜타입으로 변경"
   ]
  },
  {
   "cell_type": "code",
   "execution_count": 8,
   "metadata": {},
   "outputs": [],
   "source": [
    "rent['대여일시'] = pd.to_datetime(rent['대여일시'])\n",
    "rent['반납일시'] = pd.to_datetime(rent['반납일시'])"
   ]
  },
  {
   "cell_type": "code",
   "execution_count": 9,
   "metadata": {},
   "outputs": [
    {
     "data": {
      "text/html": [
       "<div>\n",
       "<style scoped>\n",
       "    .dataframe tbody tr th:only-of-type {\n",
       "        vertical-align: middle;\n",
       "    }\n",
       "\n",
       "    .dataframe tbody tr th {\n",
       "        vertical-align: top;\n",
       "    }\n",
       "\n",
       "    .dataframe thead th {\n",
       "        text-align: right;\n",
       "    }\n",
       "</style>\n",
       "<table border=\"1\" class=\"dataframe\">\n",
       "  <thead>\n",
       "    <tr style=\"text-align: right;\">\n",
       "      <th></th>\n",
       "      <th>자전거번호</th>\n",
       "      <th>대여일시</th>\n",
       "      <th>대여 대여소번호</th>\n",
       "      <th>대여 대여소명</th>\n",
       "      <th>대여거치대</th>\n",
       "      <th>반납일시</th>\n",
       "      <th>반납대여소번호</th>\n",
       "      <th>반납대여소명</th>\n",
       "      <th>반납거치대</th>\n",
       "      <th>이용시간</th>\n",
       "      <th>이용거리</th>\n",
       "    </tr>\n",
       "  </thead>\n",
       "  <tbody>\n",
       "    <tr>\n",
       "      <th>73413</th>\n",
       "      <td>SPB-20165</td>\n",
       "      <td>2019-11-03 17:21:00</td>\n",
       "      <td>1277</td>\n",
       "      <td>오금동 송파 참병원</td>\n",
       "      <td>2</td>\n",
       "      <td>2019-11-03 18:11:00</td>\n",
       "      <td>1277</td>\n",
       "      <td>오금동 송파 참병원</td>\n",
       "      <td>3</td>\n",
       "      <td>47</td>\n",
       "      <td>9040</td>\n",
       "    </tr>\n",
       "    <tr>\n",
       "      <th>42314</th>\n",
       "      <td>SPB-21267</td>\n",
       "      <td>2019-11-23 16:56:00</td>\n",
       "      <td>1222</td>\n",
       "      <td>잠실새내역 5번 출구 뒤</td>\n",
       "      <td>15</td>\n",
       "      <td>2019-11-23 17:48:00</td>\n",
       "      <td>1235</td>\n",
       "      <td>잠실트리지움310동 옆</td>\n",
       "      <td>4</td>\n",
       "      <td>49</td>\n",
       "      <td>2940</td>\n",
       "    </tr>\n",
       "    <tr>\n",
       "      <th>455186</th>\n",
       "      <td>SPB-08899</td>\n",
       "      <td>2019-11-06 22:52:00</td>\n",
       "      <td>2176</td>\n",
       "      <td>보라매공원 보도육교</td>\n",
       "      <td>2</td>\n",
       "      <td>2019-11-06 23:14:00</td>\n",
       "      <td>2172</td>\n",
       "      <td>나들목공원</td>\n",
       "      <td>1</td>\n",
       "      <td>20</td>\n",
       "      <td>2800</td>\n",
       "    </tr>\n",
       "    <tr>\n",
       "      <th>280169</th>\n",
       "      <td>SPB-15278</td>\n",
       "      <td>2019-11-16 13:04:00</td>\n",
       "      <td>1630</td>\n",
       "      <td>수연빌딩 앞</td>\n",
       "      <td>7</td>\n",
       "      <td>2019-11-16 13:19:00</td>\n",
       "      <td>1692</td>\n",
       "      <td>온곡초교 교차로</td>\n",
       "      <td>10</td>\n",
       "      <td>15</td>\n",
       "      <td>2190</td>\n",
       "    </tr>\n",
       "    <tr>\n",
       "      <th>228523</th>\n",
       "      <td>SPB-02767</td>\n",
       "      <td>2019-11-09 18:13:00</td>\n",
       "      <td>1650</td>\n",
       "      <td>중계근린공원내</td>\n",
       "      <td>14</td>\n",
       "      <td>2019-11-09 18:31:00</td>\n",
       "      <td>1625</td>\n",
       "      <td>상계역(4번출구)</td>\n",
       "      <td>17</td>\n",
       "      <td>17</td>\n",
       "      <td>2980</td>\n",
       "    </tr>\n",
       "    <tr>\n",
       "      <th>356465</th>\n",
       "      <td>SPB-10947</td>\n",
       "      <td>2019-11-11 13:31:00</td>\n",
       "      <td>1952</td>\n",
       "      <td>천왕연지타운2단지 앞</td>\n",
       "      <td>7</td>\n",
       "      <td>2019-11-11 13:55:00</td>\n",
       "      <td>1952</td>\n",
       "      <td>천왕연지타운2단지 앞</td>\n",
       "      <td>15</td>\n",
       "      <td>24</td>\n",
       "      <td>2000</td>\n",
       "    </tr>\n",
       "    <tr>\n",
       "      <th>500235</th>\n",
       "      <td>SPB-20729</td>\n",
       "      <td>2019-11-26 18:29:00</td>\n",
       "      <td>2244</td>\n",
       "      <td>교육개발원입구 교차로</td>\n",
       "      <td>3</td>\n",
       "      <td>2019-11-26 19:00:00</td>\n",
       "      <td>2248</td>\n",
       "      <td>서초리슈빌S 글로벌 앞</td>\n",
       "      <td>9</td>\n",
       "      <td>30</td>\n",
       "      <td>3270</td>\n",
       "    </tr>\n",
       "    <tr>\n",
       "      <th>364034</th>\n",
       "      <td>SPB-22537</td>\n",
       "      <td>2019-11-03 15:30:00</td>\n",
       "      <td>2183</td>\n",
       "      <td>동방1교</td>\n",
       "      <td>2</td>\n",
       "      <td>2019-11-03 15:57:00</td>\n",
       "      <td>1961</td>\n",
       "      <td>신도림테크노근린공원</td>\n",
       "      <td>6</td>\n",
       "      <td>25</td>\n",
       "      <td>7970</td>\n",
       "    </tr>\n",
       "    <tr>\n",
       "      <th>544979</th>\n",
       "      <td>SPB-20155</td>\n",
       "      <td>2019-11-01 10:05:00</td>\n",
       "      <td>2381</td>\n",
       "      <td>언주역 6번출구앞</td>\n",
       "      <td>1</td>\n",
       "      <td>2019-11-01 12:03:00</td>\n",
       "      <td>2328</td>\n",
       "      <td>르네상스 호텔 사거리 역삼지하보도 7번출구 앞</td>\n",
       "      <td>10</td>\n",
       "      <td>111</td>\n",
       "      <td>1250</td>\n",
       "    </tr>\n",
       "    <tr>\n",
       "      <th>160937</th>\n",
       "      <td>SPB-02927</td>\n",
       "      <td>2019-11-05 18:15:00</td>\n",
       "      <td>1608</td>\n",
       "      <td>공릉역 1번 출구 앞</td>\n",
       "      <td>9</td>\n",
       "      <td>2019-11-05 18:35:00</td>\n",
       "      <td>1438</td>\n",
       "      <td>홈플러스 신내점 앞</td>\n",
       "      <td>5</td>\n",
       "      <td>19</td>\n",
       "      <td>2870</td>\n",
       "    </tr>\n",
       "  </tbody>\n",
       "</table>\n",
       "</div>"
      ],
      "text/plain": [
       "            자전거번호                대여일시  대여 대여소번호        대여 대여소명  대여거치대  \\\n",
       "73413   SPB-20165 2019-11-03 17:21:00      1277     오금동 송파 참병원      2   \n",
       "42314   SPB-21267 2019-11-23 16:56:00      1222  잠실새내역 5번 출구 뒤     15   \n",
       "455186  SPB-08899 2019-11-06 22:52:00      2176     보라매공원 보도육교      2   \n",
       "280169  SPB-15278 2019-11-16 13:04:00      1630         수연빌딩 앞      7   \n",
       "228523  SPB-02767 2019-11-09 18:13:00      1650        중계근린공원내     14   \n",
       "356465  SPB-10947 2019-11-11 13:31:00      1952    천왕연지타운2단지 앞      7   \n",
       "500235  SPB-20729 2019-11-26 18:29:00      2244    교육개발원입구 교차로      3   \n",
       "364034  SPB-22537 2019-11-03 15:30:00      2183           동방1교      2   \n",
       "544979  SPB-20155 2019-11-01 10:05:00      2381      언주역 6번출구앞      1   \n",
       "160937  SPB-02927 2019-11-05 18:15:00      1608    공릉역 1번 출구 앞      9   \n",
       "\n",
       "                      반납일시  반납대여소번호                     반납대여소명  반납거치대  이용시간  \\\n",
       "73413  2019-11-03 18:11:00     1277                 오금동 송파 참병원      3    47   \n",
       "42314  2019-11-23 17:48:00     1235               잠실트리지움310동 옆      4    49   \n",
       "455186 2019-11-06 23:14:00     2172                      나들목공원      1    20   \n",
       "280169 2019-11-16 13:19:00     1692                   온곡초교 교차로     10    15   \n",
       "228523 2019-11-09 18:31:00     1625                  상계역(4번출구)     17    17   \n",
       "356465 2019-11-11 13:55:00     1952                천왕연지타운2단지 앞     15    24   \n",
       "500235 2019-11-26 19:00:00     2248               서초리슈빌S 글로벌 앞      9    30   \n",
       "364034 2019-11-03 15:57:00     1961                 신도림테크노근린공원      6    25   \n",
       "544979 2019-11-01 12:03:00     2328  르네상스 호텔 사거리 역삼지하보도 7번출구 앞     10   111   \n",
       "160937 2019-11-05 18:35:00     1438                 홈플러스 신내점 앞      5    19   \n",
       "\n",
       "        이용거리  \n",
       "73413   9040  \n",
       "42314   2940  \n",
       "455186  2800  \n",
       "280169  2190  \n",
       "228523  2980  \n",
       "356465  2000  \n",
       "500235  3270  \n",
       "364034  7970  \n",
       "544979  1250  \n",
       "160937  2870  "
      ]
     },
     "metadata": {},
     "output_type": "display_data"
    }
   ],
   "source": [
    "display(rent.sample(10))"
   ]
  },
  {
   "cell_type": "markdown",
   "metadata": {},
   "source": [
    "## 요일별 대여 건수 확인"
   ]
  },
  {
   "cell_type": "code",
   "execution_count": 10,
   "metadata": {},
   "outputs": [],
   "source": [
    "rent['요일'] = rent['대여일시'].dt.dayofweek"
   ]
  },
  {
   "cell_type": "code",
   "execution_count": 11,
   "metadata": {},
   "outputs": [],
   "source": [
    "dayofweek = {0:'월',1:'화',2:'수',3:'목',4:'금',5:'토',6:'일'}\n",
    "rent['요일'] = rent['요일'].map(dayofweek)"
   ]
  },
  {
   "cell_type": "code",
   "execution_count": 12,
   "metadata": {},
   "outputs": [],
   "source": [
    "result=rent.groupby('요일')['요일'].count().sort_values(ascending=False).apply(lambda x:f'{x:,}건')"
   ]
  },
  {
   "cell_type": "markdown",
   "metadata": {},
   "source": [
    "## 일자별로 대여 건수 내림차순으로 정렬하여 출력"
   ]
  },
  {
   "cell_type": "code",
   "execution_count": 17,
   "metadata": {},
   "outputs": [],
   "source": [
    "rent['day'] = rent['대여일시'].dt.day\n",
    "result = rent.groupby('day')['day'].count().sort_values(ascending=False)"
   ]
  },
  {
   "cell_type": "markdown",
   "metadata": {},
   "source": [
    "# 대여소 정보와 대여정보 Join\n",
    "- 대여소 정보와 대여정보 join\n",
    "- join 데이터 정보 확인\n",
    "- 각 구별 이용시간과  이용거리에 대한 평균, 최대, 최소값 출력"
   ]
  },
  {
   "cell_type": "code",
   "execution_count": 22,
   "metadata": {},
   "outputs": [],
   "source": [
    "rent_bicycle=pd.merge(place,rent,left_on='대여소ID',right_on='대여 대여소번호')"
   ]
  },
  {
   "cell_type": "markdown",
   "metadata": {},
   "source": [
    "## 대여소 ID 기준으로 두 데이터 병합"
   ]
  },
  {
   "cell_type": "code",
   "execution_count": 23,
   "metadata": {},
   "outputs": [
    {
     "name": "stdout",
     "output_type": "stream",
     "text": [
      "<class 'pandas.core.frame.DataFrame'>\n",
      "RangeIndex: 1540 entries, 0 to 1539\n",
      "Data columns (total 8 columns):\n",
      " #   Column  Non-Null Count  Dtype  \n",
      "---  ------  --------------  -----  \n",
      " 0   대여소_구   1540 non-null   object \n",
      " 1   대여소ID   1540 non-null   int64  \n",
      " 2   대여소명    1540 non-null   object \n",
      " 3   대여소주소   1540 non-null   object \n",
      " 4   위도      1540 non-null   float64\n",
      " 5   경도      1540 non-null   float64\n",
      " 6   기준시작일자  1540 non-null   object \n",
      " 7   거치대수    1540 non-null   int64  \n",
      "dtypes: float64(2), int64(2), object(4)\n",
      "memory usage: 96.4+ KB\n",
      "None\n",
      "<class 'pandas.core.frame.DataFrame'>\n",
      "RangeIndex: 678830 entries, 0 to 678829\n",
      "Data columns (total 13 columns):\n",
      " #   Column    Non-Null Count   Dtype         \n",
      "---  ------    --------------   -----         \n",
      " 0   자전거번호     678830 non-null  object        \n",
      " 1   대여일시      678830 non-null  datetime64[ns]\n",
      " 2   대여 대여소번호  678830 non-null  int64         \n",
      " 3   대여 대여소명   678830 non-null  object        \n",
      " 4   대여거치대     678830 non-null  int64         \n",
      " 5   반납일시      678830 non-null  datetime64[ns]\n",
      " 6   반납대여소번호   678830 non-null  int64         \n",
      " 7   반납대여소명    678830 non-null  object        \n",
      " 8   반납거치대     678830 non-null  int64         \n",
      " 9   이용시간      678830 non-null  int64         \n",
      " 10  이용거리      678830 non-null  int64         \n",
      " 11  요일        678830 non-null  object        \n",
      " 12  day       678830 non-null  int32         \n",
      "dtypes: datetime64[ns](2), int32(1), int64(6), object(4)\n",
      "memory usage: 64.7+ MB\n",
      "None\n"
     ]
    }
   ],
   "source": [
    "print(place.info())\n",
    "print(rent.info())"
   ]
  },
  {
   "cell_type": "code",
   "execution_count": 30,
   "metadata": {},
   "outputs": [
    {
     "name": "stdout",
     "output_type": "stream",
     "text": [
      "<class 'pandas.core.frame.DataFrame'>\n",
      "RangeIndex: 677505 entries, 0 to 677504\n",
      "Data columns (total 20 columns):\n",
      " #   Column   Non-Null Count   Dtype         \n",
      "---  ------   --------------   -----         \n",
      " 0   대여소_구    677505 non-null  object        \n",
      " 1   대여소ID    677505 non-null  int64         \n",
      " 2   대여소명     677505 non-null  object        \n",
      " 3   대여소주소    677505 non-null  object        \n",
      " 4   위도       677505 non-null  float64       \n",
      " 5   경도       677505 non-null  float64       \n",
      " 6   기준시작일자   677505 non-null  object        \n",
      " 7   거치대수     677505 non-null  int64         \n",
      " 8   자전거번호    677505 non-null  object        \n",
      " 9   대여일시     677505 non-null  datetime64[ns]\n",
      " 10  대여 대여소명  677505 non-null  object        \n",
      " 11  대여거치대    677505 non-null  int64         \n",
      " 12  반납일시     677505 non-null  datetime64[ns]\n",
      " 13  반납대여소번호  677505 non-null  int64         \n",
      " 14  반납대여소명   677505 non-null  object        \n",
      " 15  반납거치대    677505 non-null  int64         \n",
      " 16  이용시간     677505 non-null  int64         \n",
      " 17  이용거리     677505 non-null  int64         \n",
      " 18  요일       677505 non-null  object        \n",
      " 19  day      677505 non-null  int32         \n",
      "dtypes: datetime64[ns](2), float64(2), int32(1), int64(7), object(8)\n",
      "memory usage: 100.8+ MB\n",
      "None\n"
     ]
    }
   ],
   "source": [
    "print(rent_bicycle.info())"
   ]
  },
  {
   "cell_type": "code",
   "execution_count": null,
   "metadata": {},
   "outputs": [],
   "source": [
    "rent_bicycle.drop(['대여 대여소번호'],inplace=True,axis=1)"
   ]
  },
  {
   "cell_type": "markdown",
   "metadata": {},
   "source": [
    "## 구별 평균 이용시간, 평균 이용거리, 최대 이용시간, 최소 이용시간 확인 (구 이름 정렬)"
   ]
  },
  {
   "cell_type": "code",
   "execution_count": 35,
   "metadata": {},
   "outputs": [
    {
     "name": "stdout",
     "output_type": "stream",
     "text": [
      "            이용시간                   이용거리            \n",
      "            mean   max min         mean     max min\n",
      "대여소_구                                              \n",
      "은평구    45.856749   218   2  8899.338843   81870   0\n",
      "마포구    44.869336   249   2  8621.309039   80800   0\n",
      "용산구    41.099339   777   5  6910.704033   97090   0\n",
      "중구     37.877796  1066   2  6526.280761   81620   0\n",
      "서대문구   31.755382   316   1  4803.547582  125410   0\n",
      "영등포구   31.721189   556   1  5330.747505  116390   0\n",
      "성동구    31.316633   919   1  4723.099450  126270   0\n",
      "양천구    29.650766   236   1  5360.720915   81170   0\n",
      "종로구    28.761135   306   1  4516.685792   79210   0\n",
      "강동구    26.260650   237   1  4128.647530   71170   0\n",
      "강남구    23.382298   740   1  3193.727233  100980   0\n",
      "동작구    22.934526  1282   1  3150.196766  146850   0\n",
      "동대문구   22.714575   518   1  3604.658298  129460   0\n",
      "송파구    22.488512  1106   1  2802.381620  109570   0\n",
      "서초구    22.452883   476   1  3059.817962  110390   0\n",
      "광진구    21.522678  1000   1  2884.606619  172320   0\n",
      "도봉구    20.758714   701   1  2883.359794   81020   0\n",
      "관악구    20.469692   666   1  2929.804723  185110   0\n",
      "노원구    20.382049  1719   1  2661.159418   79820   0\n",
      "구로구    19.570479   969   1  2691.200561  155830   0\n",
      "금천구    19.544569   370   1  2769.887676   95250   0\n",
      "강북구    19.494643   772   1  2541.262305  111530   0\n",
      "성북구    18.888129  1025   1  2516.085702  102500   0\n",
      "중랑구    18.764389   636   1  2591.262076   98120   0\n",
      "강서구    17.299746   383   1  3037.660029  129700   0\n"
     ]
    }
   ],
   "source": [
    "result = rent_bicycle.groupby('대여소_구')[['이용시간','이용거리']].agg(['mean','max','min']).sort_values(('이용시간','mean'),ascending=False)\n",
    "print(result)"
   ]
  }
 ],
 "metadata": {
  "kernelspec": {
   "display_name": "Python 3 (ipykernel)",
   "language": "python",
   "name": "python3"
  },
  "language_info": {
   "codemirror_mode": {
    "name": "ipython",
    "version": 3
   },
   "file_extension": ".py",
   "mimetype": "text/x-python",
   "name": "python",
   "nbconvert_exporter": "python",
   "pygments_lexer": "ipython3",
   "version": "3.11.7"
  },
  "toc": {
   "base_numbering": 1,
   "nav_menu": {},
   "number_sections": true,
   "sideBar": true,
   "skip_h1_title": false,
   "title_cell": "Table of Contents",
   "title_sidebar": "Contents",
   "toc_cell": false,
   "toc_position": {
    "height": "calc(100% - 180px)",
    "left": "10px",
    "top": "150px",
    "width": "366px"
   },
   "toc_section_display": true,
   "toc_window_display": false
  }
 },
 "nbformat": 4,
 "nbformat_minor": 4
}
