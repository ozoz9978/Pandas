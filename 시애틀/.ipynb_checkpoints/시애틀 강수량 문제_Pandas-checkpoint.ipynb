{
 "cells": [
  {
   "cell_type": "markdown",
   "id": "9e6f49e6",
   "metadata": {},
   "source": [
    "# 시애틀 강수량 데이터 분석\n",
    "- 데이터 로딩\n",
    "- 필요하지 않은 컬럼 삭제 (STATION, STATION_NAME)\n",
    "- DATE를 날짜 형식으로 수정 : 기존 DATE 컬럼의 타입 int -> str로 변경 후 날짜 형식으로 변경\n",
    "- 날짜 컬럼을 인덱스로 변경\n",
    "- 강수량('PRCP')이 많은 날 상위 10일 출력\n",
    "- 1월 강수량만 출력\n",
    "- 1년동안 강수량이 40미만으로 내린 날이 몇일인가?\n",
    "- 1월에 내린 강수량의 합과 평균 강수량\n",
    "- 2월에 내린 강수량의 합과 평균 강수량"
   ]
  }
 ],
 "metadata": {
  "kernelspec": {
   "display_name": "Python 3 (ipykernel)",
   "language": "python",
   "name": "python3"
  },
  "language_info": {
   "codemirror_mode": {
    "name": "ipython",
    "version": 3
   },
   "file_extension": ".py",
   "mimetype": "text/x-python",
   "name": "python",
   "nbconvert_exporter": "python",
   "pygments_lexer": "ipython3",
   "version": "3.11.4"
  },
  "toc": {
   "base_numbering": 1,
   "nav_menu": {},
   "number_sections": true,
   "sideBar": true,
   "skip_h1_title": false,
   "title_cell": "Table of Contents",
   "title_sidebar": "Contents",
   "toc_cell": false,
   "toc_position": {
    "height": "calc(100% - 180px)",
    "left": "10px",
    "top": "150px",
    "width": "253.475px"
   },
   "toc_section_display": true,
   "toc_window_display": false
  }
 },
 "nbformat": 4,
 "nbformat_minor": 5
}
