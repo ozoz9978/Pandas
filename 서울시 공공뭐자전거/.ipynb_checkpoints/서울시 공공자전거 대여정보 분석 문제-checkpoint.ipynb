{
 "cells": [
  {
   "cell_type": "markdown",
   "metadata": {},
   "source": [
    "# 서울시 공공자전거 대여소 정보 분석\n",
    "\n",
    "- 대여소 정보 읽기\n",
    "- 대여소 정보 확인\n",
    "- NA 값이 몇개인지 확인 ==> NA 값이 들어있는 데이터 삭제\n",
    "- 타입 변환 (대여소ID ==> int32, 기준시작일자 ==> 날짜타입) \n",
    ">- 기준시작일에 '개통'이라는 단어를 포함하고 있는 경우 '개통' 단어 삭제\n",
    "- 대여소_구의 목록, 개수 출력\n",
    "- 대여소_구별 거치대 수\n",
    "- 구별 거치대수의 합계, 평균, 최대, 최소 출력하고 거치대가 많은 순으로 합계별 내림차순으로 10개 출력"
   ]
  },
  {
   "cell_type": "markdown",
   "metadata": {},
   "source": [
    "## 대여소 정보 데이터 읽기"
   ]
  },
  {
   "cell_type": "markdown",
   "metadata": {},
   "source": [
    "## NA 값이 몇 개인지 확인\n",
    "\n",
    "- NA값이 들어있는 데이터 삭제"
   ]
  },
  {
   "cell_type": "markdown",
   "metadata": {},
   "source": [
    "## 타입 변환\n",
    "\n",
    "- 대여소ID ==> int32\n",
    "- 기준시작일자 ==> 날짜타입"
   ]
  },
  {
   "cell_type": "markdown",
   "metadata": {},
   "source": [
    "## 대여소_구의 목록, 개수 출력"
   ]
  },
  {
   "cell_type": "markdown",
   "metadata": {},
   "source": [
    "## 대여소_구별 거치대 수"
   ]
  },
  {
   "cell_type": "markdown",
   "metadata": {},
   "source": [
    "## 구별 거치대수의 합계, 평균, 최대, 최소 출력하고 거치대가 많은 순으로 합계별 내림차순으로 10개 출력"
   ]
  },
  {
   "cell_type": "markdown",
   "metadata": {},
   "source": [
    "# 서울시 공공자전거 대여 정보 분석\n",
    "- 대여정보 읽기\n",
    "- 대여정보 확인 (결측치 컬럼 등)\n",
    "- 대여일시, 반납일시를 날짜타입으로 변경\n",
    "- 일자별로 대여 건수 내림차순으로 정렬하여 출력\n",
    "    - Series객체.dt.날짜property\n",
    "- 요일별 대여 건수 확인"
   ]
  },
  {
   "cell_type": "markdown",
   "metadata": {},
   "source": [
    "## 대여 정보 데이터 읽기"
   ]
  },
  {
   "cell_type": "markdown",
   "metadata": {},
   "source": [
    "## 대여정보 확인"
   ]
  },
  {
   "cell_type": "markdown",
   "metadata": {},
   "source": [
    "## 대여일시, 반납일시를 날짜타입으로 변경"
   ]
  },
  {
   "cell_type": "markdown",
   "metadata": {},
   "source": [
    "## 요일별 대여 건수 확인"
   ]
  },
  {
   "cell_type": "markdown",
   "metadata": {},
   "source": [
    "## 일자별로 대여 건수 내림차순으로 정렬하여 출력"
   ]
  },
  {
   "cell_type": "markdown",
   "metadata": {},
   "source": [
    "# 대여소 정보와 대여정보 Join\n",
    "- 대여소 정보와 대여정보 join\n",
    "- join 데이터 정보 확인\n",
    "- 각 구별 이용시간과  이용거리에 대한 평균, 최대, 최소값 출력"
   ]
  },
  {
   "cell_type": "markdown",
   "metadata": {},
   "source": [
    "## 대여소 ID 기준으로 두 데이터 병합"
   ]
  },
  {
   "cell_type": "markdown",
   "metadata": {},
   "source": [
    "## 구별 평균 이용시간, 평균 이용거리, 최대 이용시간, 최소 이용시간 확인 (구 이름 정렬)"
   ]
  }
 ],
 "metadata": {
  "kernelspec": {
   "display_name": "Python 3",
   "language": "python",
   "name": "python3"
  },
  "language_info": {
   "codemirror_mode": {
    "name": "ipython",
    "version": 3
   },
   "file_extension": ".py",
   "mimetype": "text/x-python",
   "name": "python",
   "nbconvert_exporter": "python",
   "pygments_lexer": "ipython3",
   "version": "3.8.8"
  },
  "toc": {
   "base_numbering": 1,
   "nav_menu": {},
   "number_sections": true,
   "sideBar": true,
   "skip_h1_title": false,
   "title_cell": "Table of Contents",
   "title_sidebar": "Contents",
   "toc_cell": false,
   "toc_position": {
    "height": "calc(100% - 180px)",
    "left": "10px",
    "top": "150px",
    "width": "366px"
   },
   "toc_section_display": true,
   "toc_window_display": false
  }
 },
 "nbformat": 4,
 "nbformat_minor": 4
}
