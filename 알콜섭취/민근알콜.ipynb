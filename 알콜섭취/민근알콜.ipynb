{
 "cells": [
  {
   "cell_type": "markdown",
   "metadata": {},
   "source": [
    "# 국가별 알콜 섭취량 데이터 분석\n",
    "- 데이터 읽기\n",
    "- 데이터 정보 확인\n",
    "- 컬럼명 한글로 변경\n",
    "    - 원본 데이터 컬럼 정보\n",
    "    - country : 국가명\n",
    "    - beer_servings : 맥주 소비량\n",
    "    - spirit_servings : 증류주 소비량(독주, 알코올 함량 20% 이상의 설탕을 첨가하지 않은 증류주)\n",
    "    - wine_servings : 와인 소비량\n",
    "    - total_litres_of_pure_alcohol : 순수 알코올\n",
    "    - continent : 대륙\n",
    "- 결측치 확인\n",
    "    - `대륙`에 대한 정보가 부족한 것을 확인할 수 있다.\n",
    "    - drinks.csv 파일을 열어 원인을 확인한다.\n",
    "    - 대륙의 종류\n",
    "        - 아시아, 유럽, 아프리카, 북아메리카, 남아메리카, 오세아니아\n",
    "        - AS, EU, AF, NA, SA, OC\n",
    "- 결측치 해결\n",
    "    - 'NA'를 NaN(결측치)로 읽는 것을 방지\n",
    "    - pd.read_csv 함수의 na_filter=False 파라메터 : 결측치를 읽어올지 여부 지정\n",
    "    - 옵션 확인 : https://pandas.pydata.org/pandas-docs/stable/reference/api/pandas.read_csv.html \n",
    "- 통계값 구하기\n",
    "    - 전세계 맥주, 증류주, 와인, 알코올의 소비에 대한 '평균', '최대값', '최소값' 구하기\n",
    "- 주류 소비량 비교\n",
    "    - 와인 소비량이 맥주 + 증류주 소비량보다 큰 나라를 검색해,'대륙'을 기준으로 정렬\n",
    "    - 맥주 소비량이 230 초과이면서, 와인 소비량이 230 초과인 나라를 검색\n",
    "    - 전체 평균보다 많은 알코올을 섭취하는 대륙과 알코올 평균 소비량 검색\n",
    "    - 맥주를 가장 많이 소비하는 국가 확인\n",
    "    - 증류주를 가장 많이 소비하는 국가 확인\n",
    "    - 평균 맥주 소비량이 가장 많은 대륙 확인\n",
    "- 데이터 프레임 조작\n",
    "    - 국가별 주류 소비량 합계를 구해 새로운 컬럼 ('주류소비량') 추가\n",
    "    - 주류 소비량 대비 알코올 소비량 비율을 구해 새로운 컬럼 ('알코올비율') 추가\n",
    "        - 알코올비율 = '알코올' / '주류소비량'\n",
    "        - 알코올비율'이 NaN인 것에 대해 0으로 채우기\n",
    "    - 알코올비율이 높은 국가(술을 독하게 마시는 국가) TOP5의 ['국가', '주류소비량', '알코올비율'] 정보 조회\n",
    "    - DataFrame의 index를 ['대륙', '국가'] 로 지정하고, 대륙별, 국가명으로  정렬하여 df로 저장\n",
    "    - 전세계 평균 소비량과 한국의 소비량을 비교하는 DataFrame 만들기\n",
    "        <pre>\n",
    "               맥주\t    증류주\t     와인\t      알코올\t  주류소비량\t알코올비율\n",
    "     국가\t\t\t\t\t\t\n",
    "South Korea\t140.000000\t16.000000\t9.000000\t9.800000\t165.000000\t0.059394\n",
    "World Wide\t106.160622\t80.994819\t49.450777\t4.717098\t236.606218\t0.026115\n",
    "</pre>\n",
    "    - pivot_table을 사용하여 대륙별(index), '맥주'와 '와인'의 mean, median, max 값을 구한다."
   ]
  },
  {
   "cell_type": "markdown",
   "metadata": {
    "id": "SozIW1fDPRSN"
   },
   "source": [
    "## 데이터 읽기\n",
    "csv 파일 가져오기 \n",
    "- csv 파일은 컬럼 구분이 콤마(,) 로 이루어진 파일\n",
    "- df = pd.read_csv(파일이름) : csv 형식의 파일을 읽어 DataFrame 객체로 가져옴\n",
    "- DataFrame.to_csv(파일이름, index=True) : DataFrame을 csv 파일로 저장, index는 제외하고 저장하기 위해서는 index=False로 지정"
   ]
  },
  {
   "cell_type": "code",
   "execution_count": 83,
   "metadata": {},
   "outputs": [
    {
     "data": {
      "text/html": [
       "<div>\n",
       "<style scoped>\n",
       "    .dataframe tbody tr th:only-of-type {\n",
       "        vertical-align: middle;\n",
       "    }\n",
       "\n",
       "    .dataframe tbody tr th {\n",
       "        vertical-align: top;\n",
       "    }\n",
       "\n",
       "    .dataframe thead th {\n",
       "        text-align: right;\n",
       "    }\n",
       "</style>\n",
       "<table border=\"1\" class=\"dataframe\">\n",
       "  <thead>\n",
       "    <tr style=\"text-align: right;\">\n",
       "      <th></th>\n",
       "      <th>country</th>\n",
       "      <th>beer_servings</th>\n",
       "      <th>spirit_servings</th>\n",
       "      <th>wine_servings</th>\n",
       "      <th>total_litres_of_pure_alcohol</th>\n",
       "      <th>continent</th>\n",
       "    </tr>\n",
       "  </thead>\n",
       "  <tbody>\n",
       "    <tr>\n",
       "      <th>1</th>\n",
       "      <td>Albania</td>\n",
       "      <td>89</td>\n",
       "      <td>132</td>\n",
       "      <td>54</td>\n",
       "      <td>4.9</td>\n",
       "      <td>EU</td>\n",
       "    </tr>\n",
       "    <tr>\n",
       "      <th>2</th>\n",
       "      <td>Algeria</td>\n",
       "      <td>25</td>\n",
       "      <td>0</td>\n",
       "      <td>14</td>\n",
       "      <td>0.7</td>\n",
       "      <td>AF</td>\n",
       "    </tr>\n",
       "    <tr>\n",
       "      <th>3</th>\n",
       "      <td>Andorra</td>\n",
       "      <td>245</td>\n",
       "      <td>138</td>\n",
       "      <td>312</td>\n",
       "      <td>12.4</td>\n",
       "      <td>EU</td>\n",
       "    </tr>\n",
       "    <tr>\n",
       "      <th>4</th>\n",
       "      <td>Angola</td>\n",
       "      <td>217</td>\n",
       "      <td>57</td>\n",
       "      <td>45</td>\n",
       "      <td>5.9</td>\n",
       "      <td>AF</td>\n",
       "    </tr>\n",
       "    <tr>\n",
       "      <th>5</th>\n",
       "      <td>Antigua &amp; Barbuda</td>\n",
       "      <td>102</td>\n",
       "      <td>128</td>\n",
       "      <td>45</td>\n",
       "      <td>4.9</td>\n",
       "      <td>NaN</td>\n",
       "    </tr>\n",
       "    <tr>\n",
       "      <th>...</th>\n",
       "      <td>...</td>\n",
       "      <td>...</td>\n",
       "      <td>...</td>\n",
       "      <td>...</td>\n",
       "      <td>...</td>\n",
       "      <td>...</td>\n",
       "    </tr>\n",
       "    <tr>\n",
       "      <th>188</th>\n",
       "      <td>Venezuela</td>\n",
       "      <td>333</td>\n",
       "      <td>100</td>\n",
       "      <td>3</td>\n",
       "      <td>7.7</td>\n",
       "      <td>SA</td>\n",
       "    </tr>\n",
       "    <tr>\n",
       "      <th>189</th>\n",
       "      <td>Vietnam</td>\n",
       "      <td>111</td>\n",
       "      <td>2</td>\n",
       "      <td>1</td>\n",
       "      <td>2.0</td>\n",
       "      <td>AS</td>\n",
       "    </tr>\n",
       "    <tr>\n",
       "      <th>190</th>\n",
       "      <td>Yemen</td>\n",
       "      <td>6</td>\n",
       "      <td>0</td>\n",
       "      <td>0</td>\n",
       "      <td>0.1</td>\n",
       "      <td>AS</td>\n",
       "    </tr>\n",
       "    <tr>\n",
       "      <th>191</th>\n",
       "      <td>Zambia</td>\n",
       "      <td>32</td>\n",
       "      <td>19</td>\n",
       "      <td>4</td>\n",
       "      <td>2.5</td>\n",
       "      <td>AF</td>\n",
       "    </tr>\n",
       "    <tr>\n",
       "      <th>192</th>\n",
       "      <td>Zimbabwe</td>\n",
       "      <td>64</td>\n",
       "      <td>18</td>\n",
       "      <td>4</td>\n",
       "      <td>4.7</td>\n",
       "      <td>AF</td>\n",
       "    </tr>\n",
       "  </tbody>\n",
       "</table>\n",
       "<p>192 rows × 6 columns</p>\n",
       "</div>"
      ],
      "text/plain": [
       "               country  beer_servings  spirit_servings  wine_servings  \\\n",
       "1              Albania             89              132             54   \n",
       "2              Algeria             25                0             14   \n",
       "3              Andorra            245              138            312   \n",
       "4               Angola            217               57             45   \n",
       "5    Antigua & Barbuda            102              128             45   \n",
       "..                 ...            ...              ...            ...   \n",
       "188          Venezuela            333              100              3   \n",
       "189            Vietnam            111                2              1   \n",
       "190              Yemen              6                0              0   \n",
       "191             Zambia             32               19              4   \n",
       "192           Zimbabwe             64               18              4   \n",
       "\n",
       "     total_litres_of_pure_alcohol continent  \n",
       "1                             4.9        EU  \n",
       "2                             0.7        AF  \n",
       "3                            12.4        EU  \n",
       "4                             5.9        AF  \n",
       "5                             4.9       NaN  \n",
       "..                            ...       ...  \n",
       "188                           7.7        SA  \n",
       "189                           2.0        AS  \n",
       "190                           0.1        AS  \n",
       "191                           2.5        AF  \n",
       "192                           4.7        AF  \n",
       "\n",
       "[192 rows x 6 columns]"
      ]
     },
     "execution_count": 83,
     "metadata": {},
     "output_type": "execute_result"
    }
   ],
   "source": [
    "import pandas as pd\n",
    "import numpy as np\n",
    "\n",
    "# 데이터 읽기 (0~3행 skip)\n",
    "df = pd.read_csv(\"drinks.csv\")\n",
    "\n",
    "# DataFrame.to_csv(\"drinks.csv\")\n",
    "df.drop(['Unnamed: 0.8','Unnamed: 0.7','Unnamed: 0.6','Unnamed: 0.5','Unnamed: 0.4','Unnamed: 0.3','Unnamed: 0.2','Unnamed: 0.1','Unnamed: 0'], axis=1, inplace=True)\n",
    "df.drop([0], axis=0, inplace=True)\n",
    "df"
   ]
  },
  {
   "cell_type": "markdown",
   "metadata": {},
   "source": [
    "## 컬럼명 한글로 변경"
   ]
  },
  {
   "cell_type": "code",
   "execution_count": 84,
   "metadata": {},
   "outputs": [],
   "source": [
    "df.columns = ['국가명', '맥주 소비량','증류주 소비량','와인 소비량','순수 알코올','대륙']"
   ]
  },
  {
   "cell_type": "markdown",
   "metadata": {},
   "source": [
    "## 결측치 확인"
   ]
  },
  {
   "cell_type": "code",
   "execution_count": null,
   "metadata": {},
   "outputs": [],
   "source": [
    "# 결측치 확인\n",
    "# 대륙에 대한 정보가 부족한 것을 확인할 수 있다.\n",
    "# drinks.csv 파일을 열어 원인을 확인한다.\n",
    "# 대륙의 종류\n",
    "# 아시아, 유럽, 아프리카, 북아메리카, 남아메리카, 오세아니아\n",
    "# AS, EU, AF, NA, SA, OC"
   ]
  },
  {
   "cell_type": "markdown",
   "metadata": {
    "id": "ktAXpj5kTdWo"
   },
   "source": [
    "## 결측치 해결\n",
    "\n",
    "- 'NA'를 NaN(결측치)로 읽는 것을 방지\n",
    "    - pd.read_csv(파일이름, na_filter=False) : 결측치를 읽어올지 여부 지정\n",
    "    - 옵션 확인 : https://pandas.pydata.org/pandas-docs/stable/reference/api/pandas.read_csv.html \n",
    "\n",
    "\n",
    "- 결측치를 다른 값으로 채우기 함\n",
    "    - DataFrame.fillna(값) 또는 Series.fillna(값) : 결측값을 특정 값으로 채우기 \n",
    "    - 연속형 데이터 : 0으로 채우기, 평균값으로 채우기, 범주별 평균값 채우기 등\n",
    "    - 범주형 데이터 : 다른 범주로 만들어 채우기 "
   ]
  },
  {
   "cell_type": "code",
   "execution_count": 90,
   "metadata": {},
   "outputs": [],
   "source": [
    "check_na = df.isna()\n",
    "df = df.fillna('North_America')"
   ]
  },
  {
   "cell_type": "markdown",
   "metadata": {
    "id": "mX3i4ZqhfEJl"
   },
   "source": [
    "## 통계값 구하기\n",
    "- DataFrame.describe() : 컬럼별 count, mean, std, min, max, Q1, Q2, Q3 등의 통계값 구하기"
   ]
  },
  {
   "cell_type": "code",
   "execution_count": 102,
   "metadata": {},
   "outputs": [
    {
     "name": "stdout",
     "output_type": "stream",
     "text": [
      "count    192.000000\n",
      "mean     106.713542\n",
      "std      101.114658\n",
      "min        0.000000\n",
      "25%       20.750000\n",
      "50%       76.000000\n",
      "75%      189.000000\n",
      "max      376.000000\n",
      "Name: 맥주 소비량, dtype: float64 count    192.000000\n",
      "mean      49.708333\n",
      "std       79.825388\n",
      "min        0.000000\n",
      "25%        1.000000\n",
      "50%        8.500000\n",
      "75%       59.750000\n",
      "max      370.000000\n",
      "Name: 와인 소비량, dtype: float64 count    192.000000\n",
      "mean      81.416667\n",
      "std       88.319881\n",
      "min        0.000000\n",
      "25%        4.000000\n",
      "50%       56.500000\n",
      "75%      128.750000\n",
      "max      438.000000\n",
      "Name: 증류주 소비량, dtype: float64 count    192.000000\n",
      "mean       4.741667\n",
      "std        3.767654\n",
      "min        0.000000\n",
      "25%        1.300000\n",
      "50%        4.250000\n",
      "75%        7.200000\n",
      "max       14.400000\n",
      "Name: 순수 알코올, dtype: float64\n",
      "<class 'pandas.core.frame.DataFrame'>\n",
      "RangeIndex: 192 entries, 1 to 192\n",
      "Data columns (total 6 columns):\n",
      " #   Column   Non-Null Count  Dtype  \n",
      "---  ------   --------------  -----  \n",
      " 0   국가명      192 non-null    object \n",
      " 1   맥주 소비량   192 non-null    int64  \n",
      " 2   증류주 소비량  192 non-null    int64  \n",
      " 3   와인 소비량   192 non-null    int64  \n",
      " 4   순수 알코올   192 non-null    float64\n",
      " 5   대륙       192 non-null    object \n",
      "dtypes: float64(1), int64(3), object(2)\n",
      "memory usage: 9.1+ KB\n",
      "None\n"
     ]
    }
   ],
   "source": [
    "# 전세계 맥주, 증류주, 와인, 알코올의 소비에 대한 '평균', '최대값', '최소값' 구하기\n",
    "\n",
    "d1 = df.describe()['맥주 소비량']\n",
    "d2 = df.describe()['와인 소비량']\n",
    "d3 = df.describe()['증류주 소비량']\n",
    "d4 = df.describe()['순수 알코올']\n",
    "print(d1,d2,d3,d4)\n",
    "print(df.info())"
   ]
  },
  {
   "cell_type": "markdown",
   "metadata": {
    "id": "Edwj1tnZhBTv"
   },
   "source": [
    "## 주류 소비량 비교\n",
    "\n"
   ]
  },
  {
   "cell_type": "code",
   "execution_count": 109,
   "metadata": {},
   "outputs": [
    {
     "ename": "SyntaxError",
     "evalue": "invalid syntax. Perhaps you forgot a comma? (1471646805.py, line 18)",
     "output_type": "error",
     "traceback": [
      "\u001b[1;36m  Cell \u001b[1;32mIn[109], line 18\u001b[1;36m\u001b[0m\n\u001b[1;33m    result = df[df['맥주'].max() == df['맥주'][['국가','맥주']]\u001b[0m\n\u001b[1;37m                ^\u001b[0m\n\u001b[1;31mSyntaxError\u001b[0m\u001b[1;31m:\u001b[0m invalid syntax. Perhaps you forgot a comma?\n"
     ]
    }
   ],
   "source": [
    "# 와인 소비량이 맥주 + 증류주 소비량보다 큰 나라를 검색해,'대륙'을 기준으로 정렬\n",
    "df3 = df[df['와인 소비량'] >= df['맥주 소비량'] + df['증류주 소비량']]\n",
    "df3 = df3[df3['맥주 소비량'] != 0]\n",
    "df3_sorted = df3.sort_values(by='대륙')\n",
    "\n",
    "# 맥주 소비량이 230 초과이면서, 와인 소비량이 230 초과인 나라를 검색\n",
    "x = df['맥주 소비량'] > 230\n",
    "y = df['와인 소비량'] > 230\n",
    "df1 = df[np.logical_and(x,y)] \n",
    "conti_mean\n",
    "# 전체 평균보다 많은 알코올을 섭취하는 대륙과 알코올 평균 소비량 검색\n",
    "# 맥주를 가장 많이 소비하는 국가 확인\n",
    "# 증류주를 가장 많이 소비하는 국가 확인\n",
    "# 평균 맥주 소비량이 가장 많은 대륙 확인\n",
    "conti_mean_over = count_mean[count1_mean > total_mean]\n",
    "\n",
    "# 맥주를 가장 많이 소비하는 국가 확인\n",
    "result = df[df['맥주'].max() == df['맥주'][['국가','맥주']]\n",
    "# 증류주를 가장 많이 소비하는 국가 확인\n",
    "result = df[df['증류주'].max() == df['증류주'][['국가','증류주']]\n",
    "\n",
    "# 국가가 여러개 나오는 경우 \n",
    "result = df.sort_values('맥주',ascending=False.head(5))[['국가','맥주']]\n",
    "\n",
    "# 평균 맥주 소비량이 가장 많은 대륙 확인\n",
    "beer_avg_conti = df.groupby('대륙')['맥주'].mean().sort_values(ascending=False).head(1)\n"
   ]
  },
  {
   "cell_type": "markdown",
   "metadata": {},
   "source": [
    "## 데이터 프레임 조작"
   ]
  },
  {
   "cell_type": "code",
   "execution_count": null,
   "metadata": {},
   "outputs": [],
   "source": [
    "# 국가별 주류 소비량 합계를 구해 새로운 컬럼 추가\n",
    "df['주류소비량'] = df['맥주'] + df['증류주'] + df['와인']\n",
    "df['주류소비량'] = df[df.columns[1:4]].sum(axis=1)"
   ]
  },
  {
   "cell_type": "code",
   "execution_count": null,
   "metadata": {},
   "outputs": [],
   "source": [
    "    # - 주류 소비량 대비 알코올 소비량 비율을 구해 새로운 컬럼 ('알코올비율') 추가\n",
    "    #     - 알코올비율 = '알코올' / '주류소비량'\n",
    "    #     - 알코올비율'이 NaN인 것에 대해 0으로 채우기\n",
    "df['알코올비율'] = df['알코올'] / df['주류소비']\n",
    "df['알코올비율'] = df['알코올비율'].fillna(0)\n",
    "print(df.head(3))\n",
    "\n",
    "# - 알코올비율이 높은 국가(술을 독하게 마시는 국가) TOP5의 ['국가', '주류소비량', '알코올비율'] 정보 조회\n",
    "\n",
    "result = df[['국가','주류소비량','알코올비율']].sort_values('알코올비율', ascending=False).head()\n",
    "result.index = np.arange(1,6)\n",
    "print(result)\n",
    "\n"
   ]
  },
  {
   "cell_type": "markdown",
   "metadata": {
    "id": "_ZWAnH92jLHe"
   },
   "source": [
    "## 맥주 소비량"
   ]
  }
 ],
 "metadata": {
  "colab": {
   "collapsed_sections": [],
   "name": "3_drink.ipynb",
   "provenance": [
    {
     "file_id": "18U4JQ20tFk5wWa6dHCVQCbHMQL4Y3NxR",
     "timestamp": 1634889253902
    },
    {
     "file_id": "1_LEf1wc3OeN9tp-KZc4jlhcbHJDU7J6_",
     "timestamp": 1632807665307
    }
   ]
  },
  "kernelspec": {
   "display_name": "Python 3 (ipykernel)",
   "language": "python",
   "name": "python3"
  },
  "language_info": {
   "codemirror_mode": {
    "name": "ipython",
    "version": 3
   },
   "file_extension": ".py",
   "mimetype": "text/x-python",
   "name": "python",
   "nbconvert_exporter": "python",
   "pygments_lexer": "ipython3",
   "version": "3.11.7"
  },
  "toc": {
   "base_numbering": 1,
   "nav_menu": {},
   "number_sections": true,
   "sideBar": true,
   "skip_h1_title": false,
   "title_cell": "Table of Contents",
   "title_sidebar": "Contents",
   "toc_cell": false,
   "toc_position": {
    "height": "calc(100% - 180px)",
    "left": "10px",
    "top": "150px",
    "width": "304.469px"
   },
   "toc_section_display": true,
   "toc_window_display": false
  }
 },
 "nbformat": 4,
 "nbformat_minor": 4
}
