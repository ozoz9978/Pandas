{
 "cells": [
  {
   "cell_type": "markdown",
   "id": "9e6f49e6",
   "metadata": {},
   "source": [
    "# 시애틀 강수량 데이터 분석\n",
    "- 데이터 로딩\n",
    "- 필요하지 않은 컬럼 삭제 (STATION, STATION_NAME)\n",
    "- DATE를 날짜 형식으로 수정 : 기존 DATE 컬럼의 타입 int -> str로 변경 후 날짜 형식으로 변경\n",
    "- 날짜 컬럼을 인덱스로 변경\n",
    "- 강수량('PRCP')이 많은 날 상위 10일 출력\n",
    "- 1월 강수량만 출력\n",
    "- 1년동안 강수량이 40미만으로 내린 날이 몇일인가?\n",
    "- 1월에 내린 강수량의 합과 평균 강수량\n",
    "- 2월에 내린 강수량의 합과 평균 강수량"
   ]
  },
  {
   "cell_type": "code",
   "execution_count": 60,
   "id": "b9e7f4a6-2af0-4ab1-a15b-6fa99239e43f",
   "metadata": {
    "scrolled": true
   },
   "outputs": [
    {
     "name": "stdout",
     "output_type": "stream",
     "text": [
      "DATE\n",
      "2014-03-05    467\n",
      "2014-11-28    343\n",
      "2014-05-03    333\n",
      "2014-03-08    323\n",
      "2014-10-22    320\n",
      "2014-03-16    277\n",
      "2014-02-16    264\n",
      "2014-10-30    254\n",
      "2014-03-28    221\n",
      "2014-08-13    216\n",
      "Name: PRCP, dtype: int64\n",
      "DATE\n",
      "2014-01-01      0\n",
      "2014-01-02     41\n",
      "2014-01-03     15\n",
      "2014-01-04      0\n",
      "2014-01-05      0\n",
      "2014-01-06      3\n",
      "2014-01-07    122\n",
      "2014-01-08     97\n",
      "2014-01-09     58\n",
      "2014-01-10     43\n",
      "2014-01-11    213\n",
      "2014-01-12     15\n",
      "2014-01-13      0\n",
      "2014-01-14      0\n",
      "2014-01-15      0\n",
      "2014-01-16      0\n",
      "2014-01-17      0\n",
      "2014-01-18      0\n",
      "2014-01-19      0\n",
      "2014-01-20      0\n",
      "2014-01-21      0\n",
      "2014-01-22      5\n",
      "2014-01-23      0\n",
      "2014-01-24      0\n",
      "2014-01-25      0\n",
      "2014-01-26      0\n",
      "2014-01-27      0\n",
      "2014-01-28     89\n",
      "2014-01-29    216\n",
      "2014-01-30      0\n",
      "2014-01-31     23\n",
      "Name: PRCP, dtype: int64\n",
      "277\n",
      "277\n",
      "sum     940.000000\n",
      "mean     30.322581\n",
      "Name: PRCP, dtype: float64\n"
     ]
    },
    {
     "ename": "AttributeError",
     "evalue": "'NoneType' object has no attribute 'apply'",
     "output_type": "error",
     "traceback": [
      "\u001b[1;31m---------------------------------------------------------------------------\u001b[0m",
      "\u001b[1;31mAttributeError\u001b[0m                            Traceback (most recent call last)",
      "Cell \u001b[1;32mIn[60], line 27\u001b[0m\n\u001b[0;32m     24\u001b[0m \u001b[38;5;28mprint\u001b[39m(\u001b[38;5;28mlen\u001b[39m(df[df[\u001b[38;5;124m'\u001b[39m\u001b[38;5;124mPRCP\u001b[39m\u001b[38;5;124m'\u001b[39m] \u001b[38;5;241m<\u001b[39m \u001b[38;5;241m40\u001b[39m]))\n\u001b[0;32m     26\u001b[0m \u001b[38;5;66;03m# 1월에 내린 강수량의 합과 평균 강수량\u001b[39;00m\n\u001b[1;32m---> 27\u001b[0m \u001b[38;5;28mprint\u001b[39m(df[\u001b[38;5;124m'\u001b[39m\u001b[38;5;124mPRCP\u001b[39m\u001b[38;5;124m'\u001b[39m][df\u001b[38;5;241m.\u001b[39mindex\u001b[38;5;241m.\u001b[39mmonth\u001b[38;5;241m==\u001b[39m\u001b[38;5;241m1\u001b[39m]\u001b[38;5;241m.\u001b[39magg([\u001b[38;5;124m'\u001b[39m\u001b[38;5;124msum\u001b[39m\u001b[38;5;124m'\u001b[39m,\u001b[38;5;124m'\u001b[39m\u001b[38;5;124mmean\u001b[39m\u001b[38;5;124m'\u001b[39m]))\u001b[38;5;241m.\u001b[39mapply(\u001b[38;5;28;01mlambda\u001b[39;00m x:np\u001b[38;5;241m.\u001b[39mround(x,\u001b[38;5;241m2\u001b[39m))\n\u001b[0;32m     29\u001b[0m \u001b[38;5;28mprint\u001b[39m(df[\u001b[38;5;124m'\u001b[39m\u001b[38;5;124mPRCP\u001b[39m\u001b[38;5;124m'\u001b[39m][df\u001b[38;5;241m.\u001b[39mindex\u001b[38;5;241m.\u001b[39mmonth \u001b[38;5;241m==\u001b[39m \u001b[38;5;241m1\u001b[39m]\u001b[38;5;241m.\u001b[39magg([\u001b[38;5;124m'\u001b[39m\u001b[38;5;124msum\u001b[39m\u001b[38;5;124m'\u001b[39m, \u001b[38;5;124m'\u001b[39m\u001b[38;5;124mmean\u001b[39m\u001b[38;5;124m'\u001b[39m])\u001b[38;5;241m.\u001b[39mround(\u001b[38;5;241m2\u001b[39m))\n",
      "\u001b[1;31mAttributeError\u001b[0m: 'NoneType' object has no attribute 'apply'"
     ]
    }
   ],
   "source": [
    "import numpy as np\n",
    "import pandas as pd\n",
    "\n",
    "# 데이터 불러오기\n",
    "df = pd.read_csv(\"Seattle2014.csv\")\n",
    "\n",
    "# 열 제거 후 새로운 데이터프레임으로 할당\n",
    "df = df.drop(['STATION','STATION_NAME'], axis=1)\n",
    "\n",
    "# DATE 열을 날짜 형식으로 변경\n",
    "df['DATE'] = pd.to_datetime(df['DATE'], format='%Y%m%d')\n",
    "\n",
    "# DATE 열을 인덱스로 변경\n",
    "df.set_index('DATE', inplace=True)\n",
    "\n",
    "# 강수량('PRCP')이 많은 날 상위 10일 출력\n",
    "print(df.sort_values('PRCP', ascending=False)['PRCP'].head(10))\n",
    "\n",
    "# 1월 강수량만 출력\n",
    "print(df['PRCP'][df.index.month == 1])\n",
    "\n",
    "# 1년 동안 강수량이 40 미만으로 내린 날이 몇일인가?\n",
    "print(np.sum(df['PRCP'] < 40))\n",
    "print(len(df[df['PRCP'] < 40]))\n",
    "\n",
    "# 1월에 내린 강수량의 합과 평균 강수량\n",
    "print(df['PRCP'][df.index.month==1].agg(['sum','mean'])).apply(lambda x:np.round(x,2))\n",
    "\n",
    "print(df['PRCP'][df.index.month == 1].agg(['sum', 'mean']).round(2))"
   ]
  }
 ],
 "metadata": {
  "kernelspec": {
   "display_name": "Python 3 (ipykernel)",
   "language": "python",
   "name": "python3"
  },
  "language_info": {
   "codemirror_mode": {
    "name": "ipython",
    "version": 3
   },
   "file_extension": ".py",
   "mimetype": "text/x-python",
   "name": "python",
   "nbconvert_exporter": "python",
   "pygments_lexer": "ipython3",
   "version": "3.11.7"
  },
  "toc": {
   "base_numbering": 1,
   "nav_menu": {},
   "number_sections": true,
   "sideBar": true,
   "skip_h1_title": false,
   "title_cell": "Table of Contents",
   "title_sidebar": "Contents",
   "toc_cell": false,
   "toc_position": {
    "height": "calc(100% - 180px)",
    "left": "10px",
    "top": "150px",
    "width": "253.475px"
   },
   "toc_section_display": true,
   "toc_window_display": false
  }
 },
 "nbformat": 4,
 "nbformat_minor": 5
}
