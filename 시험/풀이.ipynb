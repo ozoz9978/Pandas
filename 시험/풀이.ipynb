{
 "cells": [
  {
   "cell_type": "markdown",
   "id": "23787a39-ee47-49be-b1de-fca3e827b0d0",
   "metadata": {},
   "source": [
    "1. 다음 보기와 같이 0이상 10미만의 3x3 모양의 정수 난수를 생성하고 각 행의 첫 번째 값으로 정렬하세요. (5점)"
   ]
  },
  {
   "cell_type": "code",
   "execution_count": 2,
   "id": "9df068f4-d8c8-414e-b4db-63d853d96335",
   "metadata": {},
   "outputs": [
    {
     "name": "stdout",
     "output_type": "stream",
     "text": [
      "[[7 0 6]\n",
      " [0 2 6]\n",
      " [4 0 0]]\n",
      "[[0 2 6]\n",
      " [4 0 0]\n",
      " [7 0 6]]\n"
     ]
    }
   ],
   "source": [
    "import numpy as np\n",
    "a = np.random.randint(0,10,(3,3))\n",
    "print(a)\n",
    "print(a[a[:,0].argsort()])"
   ]
  },
  {
   "cell_type": "markdown",
   "id": "5f51c705-4ace-471b-bf3e-18306eaec067",
   "metadata": {},
   "source": [
    "2. 8x8 모양의 정수 0으로 채워진 행렬을 만들고 다음과 인덱싱과 슬라이싱을 이용하여 다음과 같은 체크보드 패턴을\n",
    "만드세요. (5점)\n",
    "[[0 1 0 1 0 1 0 1]\n",
    "[1 0 1 0 1 0 1 0]\n",
    "[0 1 0 1 0 1 0 1]\n",
    "[1 0 1 0 1 0 1 0]\n",
    "[0 1 0 1 0 1 0 1]\n",
    "[1 0 1 0 1 0 1 0]\n",
    "[0 1 0 1 0 1 0 1]\n",
    "[1 0 1 0 1 0 1 0]]"
   ]
  },
  {
   "cell_type": "code",
   "execution_count": 5,
   "id": "cff53a2c-7f68-4511-ae3f-2774bec296d3",
   "metadata": {},
   "outputs": [
    {
     "name": "stdout",
     "output_type": "stream",
     "text": [
      "[[0 0 0 0 0 0 0 0]\n",
      " [0 0 0 0 0 0 0 0]\n",
      " [0 0 0 0 0 0 0 0]\n",
      " [0 0 0 0 0 0 0 0]\n",
      " [0 0 0 0 0 0 0 0]\n",
      " [0 0 0 0 0 0 0 0]\n",
      " [0 0 0 0 0 0 0 0]\n",
      " [0 0 0 0 0 0 0 0]]\n",
      "[[0 1 0 1 0 1 0 1]\n",
      " [1 0 1 0 1 0 1 0]\n",
      " [0 1 0 1 0 1 0 1]\n",
      " [1 0 1 0 1 0 1 0]\n",
      " [0 1 0 1 0 1 0 1]\n",
      " [1 0 1 0 1 0 1 0]\n",
      " [0 1 0 1 0 1 0 1]\n",
      " [1 0 1 0 1 0 1 0]]\n"
     ]
    }
   ],
   "source": [
    "a = np.zeros((8,8),dtype=int)\n",
    "print(a)\n",
    "a[1::2,::2]=1\n",
    "a[::2,1::2]=1\n",
    "print(a)"
   ]
  },
  {
   "cell_type": "markdown",
   "id": "2bdf5a10-cd81-4ed1-9927-19ccfd8cc5a7",
   "metadata": {},
   "source": [
    "3. [0,1) 사이의 값을 갖는 크기 10의 랜덤 벡터를 만들고 최대값을 0으로 바꾸는 코드를 만드세요. (5점)"
   ]
  },
  {
   "cell_type": "code",
   "execution_count": 9,
   "id": "ba4b8f73-23bc-46c7-b5e2-de31217cfd5c",
   "metadata": {},
   "outputs": [
    {
     "name": "stdout",
     "output_type": "stream",
     "text": [
      "[0.01594769 0.64692618 0.69298683 0.69064355 0.03943618 0.67358312\n",
      " 0.67885024 0.51115096 0.         0.61397116]\n"
     ]
    }
   ],
   "source": [
    "a = np.random.rand(10)\n",
    "a[a.max() == a] = 0 // a[a.argmax()]=0\n",
    "print(a)"
   ]
  },
  {
   "cell_type": "markdown",
   "id": "be08a083-b7b8-48e3-9b59-9f1fea12fad6",
   "metadata": {},
   "source": [
    "4.경계가 1이고 내부가 0인 5X5 모양의 2차원 배열을 만드세요. (5점)\n",
    "[[1 1 1 1 1]\n",
    "[1 0 0 0 1]\n",
    "[1 0 0 0 1]\n",
    "[1 0 0 0 1]\n",
    "[1 1 1 1 1]]"
   ]
  },
  {
   "cell_type": "code",
   "execution_count": 11,
   "id": "cc45cc80-1c5a-449d-b485-afca2061150e",
   "metadata": {},
   "outputs": [
    {
     "name": "stdout",
     "output_type": "stream",
     "text": [
      "[[1 1 1 1 1]\n",
      " [1 0 0 0 1]\n",
      " [1 0 0 0 1]\n",
      " [1 0 0 0 1]\n",
      " [1 1 1 1 1]]\n"
     ]
    }
   ],
   "source": [
    "a = np.ones((5,5),dtype=int)\n",
    "a[1:-1,1:-1] = 0\n",
    "print(a)"
   ]
  },
  {
   "cell_type": "markdown",
   "id": "471df172-0f71-4ff6-a29e-44b3e75b9c99",
   "metadata": {},
   "source": [
    "5. 0이상 10미만의 난수 정수를 3x3모양으로 생성 후 2번째 열 값을 기준으로 정렬하세요. (seed값 0으로 고정) (5점)"
   ]
  },
  {
   "cell_type": "code",
   "execution_count": 12,
   "id": "dae01656-78f3-4653-b62d-0a8eb5c342fc",
   "metadata": {},
   "outputs": [
    {
     "name": "stdout",
     "output_type": "stream",
     "text": [
      "[[5 0 3]\n",
      " [3 7 9]\n",
      " [3 5 2]]\n",
      "[[5 0 3]\n",
      " [3 5 2]\n",
      " [3 7 9]]\n"
     ]
    }
   ],
   "source": [
    "np.random.seed(0)\n",
    "a = np.random.randint(0,10,(3,3))\n",
    "print(a)\n",
    "print(a[a[:,1].argsort()])"
   ]
  },
  {
   "cell_type": "markdown",
   "id": "0bae6d19-1647-4443-9e85-e24f149123f6",
   "metadata": {},
   "source": [
    "6. 월드컵 출전선수 골 기록 데이터 분석 (30점)"
   ]
  },
  {
   "cell_type": "markdown",
   "id": "eb946ae0-a23e-42af-aabd-a0a580986982",
   "metadata": {},
   "source": [
    "① 주어진 전체 기간의 각 나라별 골 득점수 합계 상위 5개 국가와 그 득점수를 출력하시오"
   ]
  },
  {
   "cell_type": "code",
   "execution_count": 14,
   "id": "5438c2b3-f324-4c06-88d6-ba718b5f189f",
   "metadata": {},
   "outputs": [
    {
     "name": "stdout",
     "output_type": "stream",
     "text": [
      "           Player  Goals                Years  Country\n",
      "0  Miroslav Klose     16  2002-2006-2010-2014  Germany\n",
      "1         Ronaldo     15       1998-2002-2006   Brazil\n",
      "2     Gerd Muller     14            1970-1974  Germany\n",
      "3   Just Fontaine     13                 1958   France\n",
      "4            Pele     12  1958-1962-1966-1970   Brazil\n"
     ]
    }
   ],
   "source": [
    "import pandas as pd\n",
    "df = pd.read_csv('worldcupgoals.csv')\n",
    "print(df.head())"
   ]
  },
  {
   "cell_type": "code",
   "execution_count": 17,
   "id": "e0bd8c57-4ac5-41aa-8a27-33bd8f7e6082",
   "metadata": {},
   "outputs": [
    {
     "name": "stdout",
     "output_type": "stream",
     "text": [
      "Country\n",
      "Brazil       228\n",
      "Germany      226\n",
      "Argentina    135\n",
      "Italy        123\n",
      "France       115\n",
      "Name: Goals, dtype: int64\n"
     ]
    }
   ],
   "source": [
    "result = df.groupby('Country')['Goals'].sum('Goals').sort_values(ascending=False).head(5)\n",
    "print(result)"
   ]
  },
  {
   "cell_type": "markdown",
   "id": "9f2b29cd-cde8-4a46-9f2d-f37c73de970b",
   "metadata": {},
   "source": [
    "② 주어진 전체기간동안 골득점을 한 선수가 가장 많은 나라 상위 5개 국가와 그 선수 숫자를 출력하시오."
   ]
  },
  {
   "cell_type": "code",
   "execution_count": 16,
   "id": "3e2edcdf-d6ac-424f-8ac4-c87cc2692fe9",
   "metadata": {},
   "outputs": [
    {
     "name": "stdout",
     "output_type": "stream",
     "text": [
      "Country\n",
      "Brazil       81\n",
      "Germany      78\n",
      "Italy        60\n",
      "Argentina    59\n",
      "France       58\n",
      "Name: Player, dtype: int64\n"
     ]
    }
   ],
   "source": [
    "result = df.groupby('Country')['Player'].agg('count').sort_values(ascending=False).head(5)\n",
    "print(result)"
   ]
  },
  {
   "cell_type": "markdown",
   "id": "362eef6c-6283-45ca-883a-d787ad5e5611",
   "metadata": {},
   "source": [
    "③ Years 컬럼은 년도 -년도 형식으로 구성 되어있고, 각 년도는 4자리 숫자이다. 각 년도 표기가 4자리 숫자로 안된 케이스가 존재한다. 해당 건은 몇 건인지 출력하시오. (hint: for문 이용)"
   ]
  },
  {
   "cell_type": "code",
   "execution_count": 19,
   "id": "c2abd776-ed75-41e6-b86d-80498c9ca04f",
   "metadata": {},
   "outputs": [
    {
     "name": "stdout",
     "output_type": "stream",
     "text": [
      "45\n"
     ]
    }
   ],
   "source": [
    "count = 0\n",
    "for years in df['Years']:\n",
    "    for year in years.split('-'):\n",
    "        if len(year) != 4:\n",
    "            #print(year)\n",
    "            count+=1\n",
    "print(count)        "
   ]
  },
  {
   "cell_type": "markdown",
   "id": "cbbc07af-289f-4e54-9e5c-a7e57d79cde7",
   "metadata": {},
   "source": [
    "④ 3번 문제에서 발생한 예외 케이스(년도 표기가 4자리 숫자가 아닌 경우)를 제외한 새로운 데이터 프레임을 생성하고 전체 데이터 행의 숫자를 출력하시오. (hint: 년도 표기가 4자리 숫자가 아닌 경우를 검사하는 함수를 만든 후 apply 함수를 이용하여 year 컬럼에 적용"
   ]
  },
  {
   "cell_type": "code",
   "execution_count": 22,
   "id": "6684db39-3f47-4c9f-a8a1-9d8e231c62a5",
   "metadata": {},
   "outputs": [
    {
     "name": "stdout",
     "output_type": "stream",
     "text": [
      "45\n"
     ]
    }
   ],
   "source": [
    "def checkYearFormat(years):\n",
    "        for year in years.split('-'):\n",
    "            if len(year) != 4:\n",
    "                return False\n",
    "        return True\n",
    "print(count) \n",
    "df['year_check']=df['Years'].apply(checkYearFormat)"
   ]
  },
  {
   "cell_type": "code",
   "execution_count": 24,
   "id": "c95773e0-2b8e-47db-bdfa-6afe9f88665a",
   "metadata": {},
   "outputs": [
    {
     "name": "stdout",
     "output_type": "stream",
     "text": [
      "1295\n"
     ]
    }
   ],
   "source": [
    "print(df.shape[0])"
   ]
  },
  {
   "cell_type": "code",
   "execution_count": 25,
   "id": "b1353f8c-abd8-4633-b01e-4b004fa1a7ec",
   "metadata": {},
   "outputs": [
    {
     "name": "stdout",
     "output_type": "stream",
     "text": [
      "1250\n"
     ]
    }
   ],
   "source": [
    "df_new = df[df['year_check']]\n",
    "print(df_new.shape[0])"
   ]
  },
  {
   "cell_type": "markdown",
   "id": "94e609fe-b19f-4b39-9eb4-f22560b96d8a",
   "metadata": {},
   "source": [
    "⑤ 월드컵 출전횟수를 나타내는 ‘LenCup’ 컬럼을 추가하고 4회 출전한 선수의 숫자를 구하시오."
   ]
  },
  {
   "cell_type": "code",
   "execution_count": 26,
   "id": "871ae21f-146c-4aff-a5bc-a09314948981",
   "metadata": {
    "scrolled": true
   },
   "outputs": [
    {
     "name": "stdout",
     "output_type": "stream",
     "text": [
      "5       3\n",
      "498     1\n",
      "52      2\n",
      "1018    2\n",
      "187     2\n",
      "18      3\n",
      "320     2\n",
      "516     1\n",
      "367     2\n",
      "577     1\n",
      "Name: LenCup, dtype: int64\n"
     ]
    },
    {
     "name": "stderr",
     "output_type": "stream",
     "text": [
      "C:\\Users\\user\\AppData\\Local\\Temp\\ipykernel_23772\\647621108.py:1: SettingWithCopyWarning: \n",
      "A value is trying to be set on a copy of a slice from a DataFrame.\n",
      "Try using .loc[row_indexer,col_indexer] = value instead\n",
      "\n",
      "See the caveats in the documentation: https://pandas.pydata.org/pandas-docs/stable/user_guide/indexing.html#returning-a-view-versus-a-copy\n",
      "  df_new['LenCup'] = [len(years.split('-')) for years in df_new['Years']]\n"
     ]
    }
   ],
   "source": [
    "df_new['LenCup'] = [len(years.split('-')) for years in df_new['Years']]\n",
    "print(df_new['LenCup'].sample(10))"
   ]
  },
  {
   "cell_type": "code",
   "execution_count": 27,
   "id": "142fc5fc-2563-42aa-8ed4-a501b8c1525e",
   "metadata": {},
   "outputs": [
    {
     "name": "stdout",
     "output_type": "stream",
     "text": [
      "96\n"
     ]
    }
   ],
   "source": [
    "result = df_new[df_new['LenCup']==4]\n",
    "print(result.size)"
   ]
  },
  {
   "cell_type": "markdown",
   "id": "8cebb130-826d-45e9-94dc-c0aee194193c",
   "metadata": {},
   "source": [
    "⑥ yugoslavia 국가의 월드컵 출전횟수가 2회인 선수들의 숫자를 구하시오."
   ]
  },
  {
   "cell_type": "code",
   "execution_count": 30,
   "id": "d333d3e5-fbf1-440c-b906-01594035db3e",
   "metadata": {},
   "outputs": [
    {
     "name": "stdout",
     "output_type": "stream",
     "text": [
      "7\n"
     ]
    },
    {
     "name": "stderr",
     "output_type": "stream",
     "text": [
      "C:\\Users\\user\\AppData\\Local\\Temp\\ipykernel_23772\\915229326.py:1: UserWarning: Boolean Series key will be reindexed to match DataFrame index.\n",
      "  result = df_new[df_new['Country'] == 'Yugoslavia'][df_new['LenCup']==2]\n"
     ]
    }
   ],
   "source": [
    "result = df_new[df_new['Country'] == 'Yugoslavia'][df_new['LenCup']==2]\n",
    "print(len(result))"
   ]
  },
  {
   "cell_type": "markdown",
   "id": "55264ba7-4f66-477c-a8e2-72f88b9eeae9",
   "metadata": {},
   "source": [
    "⑦ 2002년도에 출전한 전체 선수 수를 구하시오."
   ]
  },
  {
   "cell_type": "code",
   "execution_count": 31,
   "id": "ed9281b7-1534-4797-b8be-281f5a79c0ba",
   "metadata": {},
   "outputs": [
    {
     "name": "stdout",
     "output_type": "stream",
     "text": [
      "156\n"
     ]
    }
   ],
   "source": [
    "result = df_new[df_new['Years'].str.contains('2002')]\n",
    "print(len(result))"
   ]
  },
  {
   "cell_type": "markdown",
   "id": "dafd068b-0baf-4a2c-8be5-26367bd07bbf",
   "metadata": {},
   "source": [
    "⑧ 월드컵 출전 횟수가 1회 뿐인 선수들 중에서 가장 많은 득점을 올렸던 선수는 누구이며 몇 골을 넣었는지 구하시오."
   ]
  },
  {
   "cell_type": "code",
   "execution_count": 32,
   "id": "748f1f27-2e50-4ef3-ac40-fcb259e20933",
   "metadata": {},
   "outputs": [
    {
     "name": "stdout",
     "output_type": "stream",
     "text": [
      "          Player  Goals\n",
      "3  Just Fontaine     13\n"
     ]
    }
   ],
   "source": [
    "result = df_new[df_new['LenCup'] == 1].sort_values('Goals',ascending=False).head(1)[['Player','Goals']]\n",
    "print(result)"
   ]
  },
  {
   "cell_type": "markdown",
   "id": "01b751c2-c002-4706-93d4-779fce053da7",
   "metadata": {},
   "source": [
    "7. 전 세계 행복도 지수 데이터 분석 (25점)"
   ]
  },
  {
   "cell_type": "code",
   "execution_count": 33,
   "id": "743b4908-5b0d-44de-9d54-e56f90eae945",
   "metadata": {},
   "outputs": [],
   "source": [
    "import pandas as pd\n",
    "df = pd.read_csv('happiness.csv')"
   ]
  },
  {
   "cell_type": "code",
   "execution_count": null,
   "id": "9fb5ccc4-0e1e-4c00-85ca-fc526ae95dac",
   "metadata": {},
   "outputs": [],
   "source": [
    "① 각 연도별 행복랭킹 10위안에 드는 나라의 행복점수의 평균을 구하시오."
   ]
  },
  {
   "cell_type": "code",
   "execution_count": 34,
   "id": "25c71dd8-dc8d-447a-abd0-edca4301d050",
   "metadata": {},
   "outputs": [
    {
     "name": "stdout",
     "output_type": "stream",
     "text": [
      "년도: 2018\n",
      "7.44\n",
      "년도: 2019\n",
      "7.46\n"
     ]
    }
   ],
   "source": [
    "grouped = df.groupby('년도')\n",
    "for year, group in grouped:\n",
    "    print('년도:', year)\n",
    "    print(group[group['행복랭킹'] <= 10]['점수'].mean().round(2))"
   ]
  },
  {
   "cell_type": "code",
   "execution_count": 37,
   "id": "471b299e-7fdb-4592-a689-143f6a41be95",
   "metadata": {},
   "outputs": [
    {
     "name": "stdout",
     "output_type": "stream",
     "text": [
      "년도\n",
      "2018    7.44\n",
      "2019    7.46\n",
      "Name: 점수, dtype: float64\n"
     ]
    }
   ],
   "source": [
    "result = df[df['행복랭킹']<= 10].groupby('년도')['점수'].mean().round(2)\n",
    "print(result)"
   ]
  },
  {
   "cell_type": "markdown",
   "id": "fa0d6255-a3ae-420f-a7df-3604aede0295",
   "metadata": {},
   "source": [
    "② 각 연도의 행복랭킹 50위 이내의 나라들의 각각의 행복점수 평균을 데이터프레임으로 표시하시오."
   ]
  },
  {
   "cell_type": "code",
   "execution_count": 38,
   "id": "67e32291-1a04-407a-ae48-48cd9b8007d5",
   "metadata": {},
   "outputs": [
    {
     "name": "stdout",
     "output_type": "stream",
     "text": [
      "년도\n",
      "2018    6.65\n",
      "2019    6.67\n",
      "Name: 점수, dtype: float64\n"
     ]
    }
   ],
   "source": [
    "result = df[df['행복랭킹']<= 50].groupby('년도')['점수'].mean().round(2)\n",
    "print(result)"
   ]
  },
  {
   "cell_type": "markdown",
   "id": "3391394d-08e6-4b5f-8cf8-df50e51ed388",
   "metadata": {},
   "source": [
    "③ 각 년도별 하위 행복점수의 하위 5개 국가의 평균 행복점수를 구하시오."
   ]
  },
  {
   "cell_type": "code",
   "execution_count": 41,
   "id": "fd778d4e-7cdd-4ab0-a46b-af44eb2f019a",
   "metadata": {},
   "outputs": [
    {
     "data": {
      "text/plain": [
       "년도\n",
       "2018    3.18\n",
       "2019    3.14\n",
       "Name: 점수, dtype: float64"
      ]
     },
     "metadata": {},
     "output_type": "display_data"
    }
   ],
   "source": [
    "result = df.sort_values(['년도','점수']).groupby('년도').head(5).groupby('년도')['점수'].mean().round(2)\n",
    "display(result)"
   ]
  },
  {
   "cell_type": "markdown",
   "id": "0760bb28-7cd2-492c-a2b8-5b091c40a841",
   "metadata": {},
   "source": [
    "④ 2019년 데이터를 추출하고 해당 데이터의 상대 GDP 평균 이상의 나라들과 평균 이하의 나라들의 행복점수 평균을 각각 구하고 그 차이 값을 출력하시오"
   ]
  },
  {
   "cell_type": "code",
   "execution_count": 42,
   "id": "3e7e74c1-d957-4cbc-b546-222e8197a326",
   "metadata": {},
   "outputs": [
    {
     "name": "stdout",
     "output_type": "stream",
     "text": [
      "1.39\n"
     ]
    }
   ],
   "source": [
    "df_2019 = df[df['년도'] == 2019]\n",
    "over_mean = df_2019[df_2019['상대GDP'] >= df_2019['상대GDP'].mean()]['점수'].mean()\n",
    "under_mean = df_2019[df_2019['상대GDP'] <= df_2019['상대GDP'].mean()]['점수'].mean()\n",
    "print(np.round(over_mean - under_mean,2))"
   ]
  },
  {
   "cell_type": "markdown",
   "id": "2e055147-d1c9-4750-9769-f28252adc8c2",
   "metadata": {},
   "source": [
    "⑤ 각 년도의 부패에 대한인식을 내림차순 정렬했을 때 상위 20개 국가의 부패에 대한인식의 평균을 구하시오."
   ]
  },
  {
   "cell_type": "code",
   "execution_count": 50,
   "id": "1dabbbcf-68de-43a0-8fed-721c98667344",
   "metadata": {},
   "outputs": [
    {
     "name": "stdout",
     "output_type": "stream",
     "text": [
      "년도\n",
      "2018    0.3267\n",
      "2019    0.3201\n",
      "Name: 부패에 대한인식, dtype: float64\n"
     ]
    }
   ],
   "source": [
    "result = df.sort_values(['년도','부패에 대한인식'],ascending=False).groupby('년도').head(20).groupby('년도')['부패에 대한인식'].mean().round(4)\n",
    "print(result)"
   ]
  },
  {
   "cell_type": "markdown",
   "id": "5280a8ba-bf7f-495d-bf98-1a32057d9d40",
   "metadata": {},
   "source": [
    "⑥ 2018년도 행복랭킹 50위 이내에 포함됐다가 2019년 50위 밖으로 밀려난 국가의 숫자를 구하시오."
   ]
  },
  {
   "cell_type": "code",
   "execution_count": 51,
   "id": "f46fbbe3-1b0b-41dd-a499-421901d661bd",
   "metadata": {},
   "outputs": [
    {
     "name": "stdout",
     "output_type": "stream",
     "text": [
      "0\n"
     ]
    }
   ],
   "source": [
    "df1 = df[np.logical_and(df['년도']==2019,df['행복랭킹']<=50)]['나라명']\n",
    "df2 = df[np.logical_and(df['년도']==2019,df['행복랭킹']>50)]['나라명']\n",
    "result = df2.isin(df1).sum()\n",
    "print(result)"
   ]
  },
  {
   "cell_type": "markdown",
   "id": "dd5c8af7-4a4e-4b60-9c3d-7a17fcd40ed0",
   "metadata": {},
   "source": [
    "⑦ 2018년,2019년 모두 기록이 있는 나라들 중 년도별 행복점수가 가장 증가한 나라와 그 증가 수치는?"
   ]
  },
  {
   "cell_type": "code",
   "execution_count": 57,
   "id": "28e5055b-9339-48c9-96b0-04644e84ea18",
   "metadata": {},
   "outputs": [
    {
     "name": "stdout",
     "output_type": "stream",
     "text": [
      "0                       Finland\n",
      "1                       Denmark\n",
      "2                        Norway\n",
      "3                       Iceland\n",
      "4                   Netherlands\n",
      "                 ...           \n",
      "151                      Rwanda\n",
      "152                    Tanzania\n",
      "153                 Afghanistan\n",
      "154    Central African Republic\n",
      "155                 South Sudan\n",
      "Name: 나라명, Length: 152, dtype: object\n"
     ]
    }
   ],
   "source": [
    "year_2018 = df[df['년도']==2018]['나라명']\n",
    "year_2019 = df[df['년도']==2019]['나라명']\n",
    "year_2018_2019_masking = year_2019.isin(year_2018)\n",
    "year_2018_2019 = year_2019[year_2018_2019_masking]\n",
    "print(year_2018_2019)"
   ]
  },
  {
   "cell_type": "code",
   "execution_count": 58,
   "id": "eb1e2964-8844-4bab-b067-7f02cbd18a65",
   "metadata": {},
   "outputs": [
    {
     "name": "stdout",
     "output_type": "stream",
     "text": [
      "Index(['Finland', 'Albania', 'Nepal', 'Jordan', 'Benin', 'Congo (Brazzaville)',\n",
      "       'Gabon', 'Laos', 'South Africa', 'Venezuela',\n",
      "       ...\n",
      "       'Kosovo', 'Romania', 'Cyprus', 'Argentina', 'Kuwait', 'Thailand',\n",
      "       'Latvia', 'South Korea', 'Estonia', 'Jamaica'],\n",
      "      dtype='object', name='나라명', length=152)\n"
     ]
    }
   ],
   "source": [
    "count = df['나라명'].value_counts()\n",
    "year_2018_2019 = count[count == 2].index\n",
    "print(year_2018_2019)"
   ]
  },
  {
   "cell_type": "code",
   "execution_count": 59,
   "id": "e46ed092-00d0-4ed2-9aee-840703f946fd",
   "metadata": {},
   "outputs": [
    {
     "data": {
      "text/html": [
       "<div>\n",
       "<style scoped>\n",
       "    .dataframe tbody tr th:only-of-type {\n",
       "        vertical-align: middle;\n",
       "    }\n",
       "\n",
       "    .dataframe tbody tr th {\n",
       "        vertical-align: top;\n",
       "    }\n",
       "\n",
       "    .dataframe thead th {\n",
       "        text-align: right;\n",
       "    }\n",
       "</style>\n",
       "<table border=\"1\" class=\"dataframe\">\n",
       "  <thead>\n",
       "    <tr style=\"text-align: right;\">\n",
       "      <th></th>\n",
       "      <th>나라명</th>\n",
       "      <th>전년대비 점수 증감</th>\n",
       "    </tr>\n",
       "  </thead>\n",
       "  <tbody>\n",
       "    <tr>\n",
       "      <th>144</th>\n",
       "      <td>Burundi</td>\n",
       "      <td>0.87</td>\n",
       "    </tr>\n",
       "  </tbody>\n",
       "</table>\n",
       "</div>"
      ],
      "text/plain": [
       "         나라명  전년대비 점수 증감\n",
       "144  Burundi        0.87"
      ]
     },
     "execution_count": 59,
     "metadata": {},
     "output_type": "execute_result"
    }
   ],
   "source": [
    "multiple =df[df['나라명'].isin(year_2018_2019)]\n",
    "\n",
    "year_2019 = multiple[multiple['년도']==2019].sort_values('나라명')\n",
    "year_2018_point = multiple[multiple['년도']==2018].sort_values('나라명')['점수']\n",
    "year_2019['전년대비 점수 증감'] = year_2019['점수'].values - year_2018_point.values\n",
    "\n",
    "year_2019[year_2019['전년대비 점수 증감'].max() == year_2019['전년대비 점수 증감']] [['나라명','전년대비 점수 증감']]"
   ]
  },
  {
   "cell_type": "code",
   "execution_count": null,
   "id": "55cf856c-4a69-438e-a1fe-08e5f66c32a8",
   "metadata": {},
   "outputs": [],
   "source": [
    "8. 유튜브 데이터 분석 (20점)"
   ]
  },
  {
   "cell_type": "code",
   "execution_count": null,
   "id": "e29d075c-fd0c-40c8-a16b-5c7254b316c1",
   "metadata": {},
   "outputs": [],
   "source": [
    "① 컬럼의 이름을 다음과 같이 변경하시오\n",
    "◼title : 채널명, category : 카테고리, subscriber : 구독자수, view : 조회수, video : 영상개수"
   ]
  },
  {
   "cell_type": "code",
   "execution_count": 61,
   "id": "0abf9b7d-966f-496e-aefc-099005cf967a",
   "metadata": {},
   "outputs": [],
   "source": [
    "import pandas as pd\n",
    "df = pd.read_csv('youtube_rank.csv')"
   ]
  },
  {
   "cell_type": "code",
   "execution_count": 62,
   "id": "f648d273-f142-4a71-820f-1f14ae463b50",
   "metadata": {},
   "outputs": [],
   "source": [
    "df.columns = ['채널명','카테고리','구독자수','조회수','영상개수']"
   ]
  },
  {
   "cell_type": "markdown",
   "id": "6d4ed13b-ece4-4f87-a413-d474ed918aab",
   "metadata": {},
   "source": [
    "② ‘구독자수’ 컬럼과 ‘조회수’ 컬럼의 타입을 정수형(int64)로 변경하시오 (‘억’,’만’ 한글을 삭제 후 숫자로 변경)"
   ]
  },
  {
   "cell_type": "code",
   "execution_count": 91,
   "id": "d1ebb6a0-eb38-4abf-8561-9376d05bfcda",
   "metadata": {},
   "outputs": [],
   "source": [
    "df['구독자수'] = df['구독자수'].replace('만','0000',regex=True).astype('int64')\n",
    "df['조회수'] = df['조회수'].replace(['만','억'],['','0000'],regex=True).astype('int64')       "
   ]
  },
  {
   "cell_type": "code",
   "execution_count": null,
   "id": "ca6f9618-1471-4f1c-b041-1200e0f8de0b",
   "metadata": {},
   "outputs": [],
   "source": [
    "③ ‘영상개수’ 컬럼의 ‘,’와 ‘개’문자를 제거하고 정수형(int32)로 변경하시오."
   ]
  },
  {
   "cell_type": "code",
   "execution_count": 84,
   "id": "fbc82661-e07c-464f-9240-2f9a29468e9c",
   "metadata": {},
   "outputs": [],
   "source": [
    "df['영상개수'] = df['영상개수'].replace([',','개'],['',''],regex=True).astype('int32')       "
   ]
  },
  {
   "cell_type": "code",
   "execution_count": null,
   "id": "567205f9-0754-40f8-9382-81734984442e",
   "metadata": {},
   "outputs": [],
   "source": [
    "④ 인기 채널 확인하기\n",
    "◼’구독자수’와 ‘조회수’가 많은 5개의 채널을 각각 출력하시오"
   ]
  },
  {
   "cell_type": "code",
   "execution_count": 69,
   "id": "f7d5ea23-952d-4990-b615-413205f8d119",
   "metadata": {},
   "outputs": [
    {
     "data": {
      "text/html": [
       "<div>\n",
       "<style scoped>\n",
       "    .dataframe tbody tr th:only-of-type {\n",
       "        vertical-align: middle;\n",
       "    }\n",
       "\n",
       "    .dataframe tbody tr th {\n",
       "        vertical-align: top;\n",
       "    }\n",
       "\n",
       "    .dataframe thead th {\n",
       "        text-align: right;\n",
       "    }\n",
       "</style>\n",
       "<table border=\"1\" class=\"dataframe\">\n",
       "  <thead>\n",
       "    <tr style=\"text-align: right;\">\n",
       "      <th></th>\n",
       "      <th>채널명</th>\n",
       "      <th>카테고리</th>\n",
       "      <th>구독자수</th>\n",
       "      <th>조회수</th>\n",
       "      <th>영상개수</th>\n",
       "    </tr>\n",
       "  </thead>\n",
       "  <tbody>\n",
       "    <tr>\n",
       "      <th>4</th>\n",
       "      <td>SMTOWN</td>\n",
       "      <td>[음악/댄스/가수]</td>\n",
       "      <td>2450만</td>\n",
       "      <td>18000007532</td>\n",
       "      <td>3583</td>\n",
       "    </tr>\n",
       "    <tr>\n",
       "      <th>6</th>\n",
       "      <td>1theK (원더케이)</td>\n",
       "      <td>[음악/댄스/가수]</td>\n",
       "      <td>2090만</td>\n",
       "      <td>17800006042</td>\n",
       "      <td>13291</td>\n",
       "    </tr>\n",
       "    <tr>\n",
       "      <th>8</th>\n",
       "      <td>ArianaGrandeVevo</td>\n",
       "      <td>[음악/댄스/가수]</td>\n",
       "      <td>1820만</td>\n",
       "      <td>14700009692</td>\n",
       "      <td>112</td>\n",
       "    </tr>\n",
       "    <tr>\n",
       "      <th>0</th>\n",
       "      <td>BLACKPINK</td>\n",
       "      <td>[음악/댄스/가수]</td>\n",
       "      <td>5140만</td>\n",
       "      <td>12800005130</td>\n",
       "      <td>319</td>\n",
       "    </tr>\n",
       "    <tr>\n",
       "      <th>1</th>\n",
       "      <td>Big Hit Labels</td>\n",
       "      <td>[음악/댄스/가수]</td>\n",
       "      <td>4550만</td>\n",
       "      <td>12000008966</td>\n",
       "      <td>433</td>\n",
       "    </tr>\n",
       "  </tbody>\n",
       "</table>\n",
       "</div>"
      ],
      "text/plain": [
       "                채널명        카테고리   구독자수          조회수   영상개수\n",
       "4            SMTOWN  [음악/댄스/가수]  2450만  18000007532   3583\n",
       "6      1theK (원더케이)  [음악/댄스/가수]  2090만  17800006042  13291\n",
       "8  ArianaGrandeVevo  [음악/댄스/가수]  1820만  14700009692    112\n",
       "0         BLACKPINK  [음악/댄스/가수]  5140만  12800005130    319\n",
       "1    Big Hit Labels  [음악/댄스/가수]  4550만  12000008966    433"
      ]
     },
     "execution_count": 69,
     "metadata": {},
     "output_type": "execute_result"
    }
   ],
   "source": [
    "df.sort_values('구독자수',ascending=False).head(5)\n",
    "df.sort_values('조회수',ascending=False).head(5)"
   ]
  },
  {
   "cell_type": "code",
   "execution_count": null,
   "id": "e75b73b7-acab-4f17-aee0-227a0e4e7208",
   "metadata": {},
   "outputs": [],
   "source": [
    "⑤ ‘카테고리’가 [음악/댄스/가수]인 채널의 ‘구독자수’ 상위 5개를 출력하시오."
   ]
  },
  {
   "cell_type": "code",
   "execution_count": 78,
   "id": "b7b98c2b-8db1-4df4-8f82-ccb9ca6548c8",
   "metadata": {},
   "outputs": [
    {
     "name": "stdout",
     "output_type": "stream",
     "text": [
      "                       채널명        카테고리   구독자수          조회수  영상개수\n",
      "0                BLACKPINK  [음악/댄스/가수]  5140만  12800005130   319\n",
      "577                 DKDKTV  [음악/댄스/가수]    67만    100002446   909\n",
      "531  Dreamcatcher official  [음악/댄스/가수]    73만    100000329   239\n",
      "539    ALL THE K-JAM 올더케이잼  [음악/댄스/가수]    72만    500009963  9564\n",
      "548            wondergirls  [음악/댄스/가수]    71만    300003872   217\n"
     ]
    }
   ],
   "source": [
    "result = df[df['카테고리'] == '[음악/댄스/가수]'].sort_values(by='카테고리', ascending=False).head(5)\n",
    "print(result)"
   ]
  },
  {
   "cell_type": "code",
   "execution_count": 79,
   "id": "aefd9996-1a6b-4c54-861b-e5a9f536f736",
   "metadata": {},
   "outputs": [
    {
     "name": "stdout",
     "output_type": "stream",
     "text": [
      "101\n"
     ]
    }
   ],
   "source": [
    "result = df[df['카테고리'].isin(['TV/방송]','[게임]'])]\n",
    "print(len(result))"
   ]
  },
  {
   "cell_type": "code",
   "execution_count": null,
   "id": "bff2cf9f-f6bf-4d06-a80b-1e694f4861cc",
   "metadata": {},
   "outputs": [],
   "source": [
    "⑦ ‘채널명’에 ‘KBS’가 포함된 채널 명을 출력하시오."
   ]
  },
  {
   "cell_type": "code",
   "execution_count": 86,
   "id": "c45c26ca-6956-4a30-b62b-04c211bf7546",
   "metadata": {},
   "outputs": [
    {
     "name": "stdout",
     "output_type": "stream",
     "text": [
      "                          채널명        카테고리   구독자수          조회수    영상개수\n",
      "12                  KBS World     [TV/방송]  1430만  10100005806   46830\n",
      "46                   KBS Kpop     [TV/방송]   526만   3400001126   24389\n",
      "76              KBS Entertain     [TV/방송]   393만   5300004091   91783\n",
      "101                 KBS Drama     [TV/방송]   304만   3500003851  105922\n",
      "290                  KBS 한국방송     [TV/방송]   122만   1100002851   25993\n",
      "292         KBS Drama Classic  [뉴스/정치/사회]   121만   1000008440    8783\n",
      "308           KBS HUMAN: 뭉클티비     [TV/방송]   117만    400009568    1593\n",
      "389                  KBS News  [뉴스/정치/사회]    96만   1000001741  145515\n",
      "457                KBS CoolFM     [TV/방송]    84만    400002952    6981\n",
      "716                     KBS N     [TV/방송]    56만    700004783   12470\n",
      "777                  KBS KONG  [뉴스/정치/사회]    52만    100009161    6639\n",
      "991  KBS Documentary [KBS 다큐]  [뉴스/정치/사회]    40만    200004506   48383\n",
      "992                    KBS 교양  [뉴스/정치/사회]    40만    200009796   64694\n"
     ]
    }
   ],
   "source": [
    "print(df[df['채널명'].str.contains('KBS')])"
   ]
  },
  {
   "cell_type": "code",
   "execution_count": null,
   "id": "fdddc6c4-c59a-4dc8-88b1-03cd51bd2bb7",
   "metadata": {},
   "outputs": [],
   "source": [
    "⑧ ‘카테고리’별 ‘구독자수’, ‘조회수’, ‘영상개수’의 평균을 출력하시오"
   ]
  },
  {
   "cell_type": "code",
   "execution_count": 92,
   "id": "01c61191-e129-48d1-ab32-8a2ab055baf8",
   "metadata": {},
   "outputs": [
    {
     "name": "stdout",
     "output_type": "stream",
     "text": [
      "                   구독자수           조회수      영상개수\n",
      "카테고리                                           \n",
      "[BJ/인물/연예인]  1274411.76  3.617695e+08    837.74\n",
      "[IT/기술/컴퓨터]   806250.00  1.125064e+08   1200.12\n",
      "[TV/방송]      1219875.78  6.677069e+08   9025.13\n",
      "[게임]          743564.36  4.049554e+08   2527.01\n",
      "[교육/강의]       851304.35  1.347869e+08    837.91\n",
      "[국내/해외/여행]    626000.00  1.200067e+08    830.20\n",
      "[뉴스/정치/사회]   1226964.29  1.141077e+09  42048.09\n",
      "[미분류]        1429500.00  3.600049e+08    778.05\n",
      "[스포츠/운동]      932500.00  2.166729e+08   3954.92\n",
      "[애완/반려동물]    1161000.00  3.850036e+08    786.25\n",
      "[영화/만화/애니]    852727.27  2.697019e+08    770.18\n",
      "[음식/요리/레시피]  1612045.45  3.556870e+08    830.02\n",
      "[음악/댄스/가수]   3195200.00  1.041148e+09   1382.05\n",
      "[자동차]         490000.00  1.500036e+08    670.00\n",
      "[주식/경제/부동산]   626000.00  2.000480e+07   1026.40\n",
      "[취미/라이프]      974500.00  1.625042e+08    359.32\n",
      "[취미]          560000.00  1.000006e+08    237.00\n",
      "[키즈/어린이]     2729157.89  1.227374e+09   1069.16\n",
      "[패션/미용]       823859.65  5.614517e+07    313.16\n",
      "[해외]         1595000.00  7.833388e+08   5043.50\n",
      "[회사/오피셜]     2202500.00  4.500047e+08   2084.25\n"
     ]
    }
   ],
   "source": [
    "result = df.groupby('카테고리')[['구독자수','조회수','영상개수']].mean().round(2)\n",
    "print(result)"
   ]
  }
 ],
 "metadata": {
  "kernelspec": {
   "display_name": "Python 3 (ipykernel)",
   "language": "python",
   "name": "python3"
  },
  "language_info": {
   "codemirror_mode": {
    "name": "ipython",
    "version": 3
   },
   "file_extension": ".py",
   "mimetype": "text/x-python",
   "name": "python",
   "nbconvert_exporter": "python",
   "pygments_lexer": "ipython3",
   "version": "3.11.7"
  }
 },
 "nbformat": 4,
 "nbformat_minor": 5
}
