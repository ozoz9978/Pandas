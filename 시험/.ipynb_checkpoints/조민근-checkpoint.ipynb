{
 "cells": [
  {
   "cell_type": "code",
   "execution_count": null,
   "id": "42b3b981-374c-4284-a4a9-18717ad5a1e9",
   "metadata": {},
   "outputs": [],
   "source": [
    "1. 다음 보기와 같이 0이상 10미만의 3x3 모양의 정수 난수를 생성하고 각 행의 첫 번째 값으로 정렬하세요. (5점)"
   ]
  },
  {
   "cell_type": "code",
   "execution_count": 13,
   "id": "cc5bb894-b2d5-4c84-98de-845a932d72f0",
   "metadata": {},
   "outputs": [
    {
     "name": "stdout",
     "output_type": "stream",
     "text": [
      "[[5 6 8]\n",
      " [0 2 3]\n",
      " [0 0 1]]\n"
     ]
    }
   ],
   "source": [
    "import numpy as np\n",
    "import pandas as pd\n",
    "rng = np.random.default_rng(0)\n",
    "a = rng.integers(0,10,size=((3,3)),dtype='int32')\n",
    "print(np.sort(a,axis=1))"
   ]
  },
  {
   "cell_type": "code",
   "execution_count": null,
   "id": "697f5720-12b9-4730-911e-1abe8cec33c2",
   "metadata": {},
   "outputs": [],
   "source": [
    "2. 8x8 모양의 정수 0으로 채워진 행렬을 만들고 다음과 인덱싱과 슬라이싱을 이용하여 다음과 같은 체크보드 패턴을\n",
    "만드세요. (5점)\n",
    "[[0 1 0 1 0 1 0 1]\n",
    "[1 0 1 0 1 0 1 0]\n",
    "[0 1 0 1 0 1 0 1]\n",
    "[1 0 1 0 1 0 1 0]\n",
    "[0 1 0 1 0 1 0 1]\n",
    "[1 0 1 0 1 0 1 0]\n",
    "[0 1 0 1 0 1 0 1]\n",
    "[1 0 1 0 1 0 1 0]]"
   ]
  },
  {
   "cell_type": "code",
   "execution_count": null,
   "id": "9b95f50d-1deb-49c4-9307-c9de3fb71156",
   "metadata": {},
   "outputs": [],
   "source": [
    "zero = np.zeros((8,8),dtype='int32')\n",
    "zero[[1,3,5,7],0:1]=1\n",
    "zero[[0,2,4,6],1:2]=1\n",
    "zero[[1,3,5,7],2:3]=1\n",
    "zero[[0,2,4,6],3:4]=1\n",
    "zero[[1,3,5,7],4:5]=1\n",
    "zero[[0,2,4,6],5:6]=1\n",
    "zero[[1,3,5,7],6:7]=1\n",
    "zero[[0,2,4,6],7:8]=1\n",
    "print(zero)"
   ]
  },
  {
   "cell_type": "markdown",
   "id": "92e0bce2-beae-457f-ac74-b7b7d802df31",
   "metadata": {},
   "source": [
    "3. [0,1) 사이의 값을 갖는 크기 10의 랜덤 벡터를 만들고 최대값을 0으로 바꾸는 코드를 만드세요. (5점)"
   ]
  },
  {
   "cell_type": "code",
   "execution_count": 12,
   "id": "249bc9c8-cf7e-47cd-8de5-0207b891a588",
   "metadata": {},
   "outputs": [
    {
     "name": "stdout",
     "output_type": "stream",
     "text": [
      "[0.43758721 0.891773   0.96366276 0.38344152 0.79172504 0.52889492\n",
      " 0.56804456 0.92559664 0.07103606 0.0871293 ]\n"
     ]
    }
   ],
   "source": [
    "a[np.random.rand()<=0]\n",
    "print(a)"
   ]
  },
  {
   "cell_type": "markdown",
   "id": "8b284cf8-95a9-4cad-a783-ea1f95dccc97",
   "metadata": {},
   "source": [
    "4.경계가 1이고 내부가 0인 5X5 모양의 2차원 배열을 만드세요. (5점)\n",
    "[[1 1 1 1 1]\n",
    "[1 0 0 0 1]\n",
    "[1 0 0 0 1]\n",
    "[1 0 0 0 1]\n",
    "[1 1 1 1 1]]"
   ]
  },
  {
   "cell_type": "code",
   "execution_count": 7,
   "id": "13dc66e9-4f7f-45c2-bc10-e66a26d3e7fd",
   "metadata": {},
   "outputs": [
    {
     "name": "stdout",
     "output_type": "stream",
     "text": [
      "[[1. 1. 1. 1. 1.]\n",
      " [1. 0. 0. 0. 1.]\n",
      " [1. 0. 0. 0. 1.]\n",
      " [1. 0. 0. 0. 1.]\n",
      " [1. 1. 1. 1. 1.]]\n"
     ]
    }
   ],
   "source": [
    "import numpy as np\n",
    "one = np.ones((5,5))\n",
    "one[1:4,1:4] = 0\n",
    "print(one)"
   ]
  },
  {
   "cell_type": "markdown",
   "id": "6cadc165-6fbf-49f1-9161-31fa00526dad",
   "metadata": {},
   "source": [
    "5. 0이상 10미만의 난수 정수를 3x3모양으로 생성 후 2번째 열 값을 기준으로 정렬하세요. (seed값 0으로 고정) (5점)"
   ]
  },
  {
   "cell_type": "code",
   "execution_count": 24,
   "id": "6863266f-c6c6-4938-b422-04e60651ca9e",
   "metadata": {},
   "outputs": [
    {
     "name": "stdout",
     "output_type": "stream",
     "text": [
      "[[5 0 3]\n",
      " [3 7 9]\n",
      " [3 5 2]]\n",
      "[[[5 0 3]]\n",
      "\n",
      " [[3 5 2]]\n",
      "\n",
      " [[3 7 9]]]\n"
     ]
    }
   ],
   "source": [
    "np.random.seed(0)\n",
    "d = np.random.randint(0,10,(3,3))\n",
    "sort = np.argsort(d)[:,[2]]\n",
    "print(d[sort])"
   ]
  },
  {
   "cell_type": "markdown",
   "id": "d8036812-4ed8-472c-b551-cf18198a72b4",
   "metadata": {},
   "source": [
    "6.  월드컵 출전선수 골 기록 데이터 분석 (30점)\n",
    "③ Years 컬럼은 년도 -년도 형식으로 구성 되어있고, 각 년도는 4자리 숫자이다. 각 년도 표기가 4자리 숫자로 안된 케\n",
    "이스가 존재한다. 해당 건은 몇 건인지 출력하시오. (hint: for문 이용)\n",
    "④ 3번 문제에서 발생한 예외 케이스(년도 표기가 4자리 숫자가 아닌 경우)를 제외한 새로운 데이터 프레임을 생성하고\n",
    "전체 데이터 행의 숫자를 출력하시오. (hint: 년도 표기가 4자리 숫자가 아닌 경우를 검사하는 함수를 만든 후 apply\n",
    "함수를 이용하여 year 컬럼에 적용)\n",
    "⑤ 월드컵 출전횟수를 나타내는 ‘LenCup’ 컬럼을 추가하고 4회 출전한 선수의 숫자를 구하시오.\n",
    "⑥ yugoslavia 국가의 월드컵 출전횟수가 2회인 선수들의 숫자를 구하시오.\n",
    "⑦ 2002년도에 출전한 전체 선수 수를 구하시오.\n",
    "⑧ 월드컵 출전 횟수가 1회 뿐인 선수들 중에서 가장 많은 득점을 올렸던 선수는 누구이며 몇 골을 넣었는지 구하시오.\n"
   ]
  },
  {
   "cell_type": "code",
   "execution_count": 35,
   "id": "526445b3-ac80-48a8-9d15-a65554bd9898",
   "metadata": {},
   "outputs": [
    {
     "name": "stdout",
     "output_type": "stream",
     "text": [
      "<class 'pandas.core.frame.DataFrame'>\n",
      "RangeIndex: 1295 entries, 0 to 1294\n",
      "Data columns (total 4 columns):\n",
      " #   Column   Non-Null Count  Dtype \n",
      "---  ------   --------------  ----- \n",
      " 0   Player   1295 non-null   object\n",
      " 1   Goals    1295 non-null   int64 \n",
      " 2   Years    1295 non-null   object\n",
      " 3   Country  1295 non-null   object\n",
      "dtypes: int64(1), object(3)\n",
      "memory usage: 40.6+ KB\n",
      "None\n"
     ]
    },
    {
     "data": {
      "text/plain": [
       "Country\n",
       "Brazil       228\n",
       "Germany      226\n",
       "Argentina    135\n",
       "Italy        123\n",
       "France       115\n",
       "Name: Goals, dtype: int64"
      ]
     },
     "execution_count": 35,
     "metadata": {},
     "output_type": "execute_result"
    }
   ],
   "source": [
    "#① 주어진 전체 기간의 각 나라별 골 득점수 합계 상위 5개 국가와 그 득점수를 출력하시오\n",
    "\n",
    "import pandas as pd\n",
    "df = pd.read_csv(\"worldcupgoals.csv\")\n",
    "df.groupby('Country')['Goals'].sum().sort_values(ascending=False).head(5)"
   ]
  },
  {
   "cell_type": "code",
   "execution_count": 60,
   "id": "fb60574c-128d-4613-b243-a86ca7dd1124",
   "metadata": {},
   "outputs": [
    {
     "name": "stdout",
     "output_type": "stream",
     "text": [
      "Country\n",
      "Brazil       81\n",
      "Germany      78\n",
      "Italy        60\n",
      "Argentina    59\n",
      "France       58\n",
      "Name: Player, dtype: int64\n"
     ]
    }
   ],
   "source": [
    "# ② 주어진 전체기간동안 골득점을 한 선수가 가장 많은 나라 상위 5개 국가와 그 선수 숫자를 출력하시오.\n",
    "dd = df.groupby('Country')['Player'].count().sort_values(ascending=False).head(5)\n",
    "print(dd)"
   ]
  },
  {
   "cell_type": "markdown",
   "id": "e2b47c3e-018c-4c3f-a936-164104592cc3",
   "metadata": {},
   "source": [
    "# 7. 전 세계 행복도 지수 데이터 분석 (25점)\n",
    "# ⑦ 2018년,2019년 모두 기록이 있는 나라들 중 년도별 행복점수가 가장 증가한 나라와 그 증가 수치는?"
   ]
  },
  {
   "cell_type": "code",
   "execution_count": 146,
   "id": "110d53f0-3184-4edb-bd6b-72b40b074733",
   "metadata": {},
   "outputs": [
    {
     "name": "stdout",
     "output_type": "stream",
     "text": [
      "년도\n",
      "2019    7.4559\n",
      "2018    7.4442\n",
      "Name: 점수, dtype: float64\n"
     ]
    }
   ],
   "source": [
    "# ① 각 연도별 행복랭킹 10위안에 드는 나라의 행복점수의 평균을 구하시오.\n",
    "\n",
    "import pandas as pd\n",
    "df = pd.read_csv(\"happiness.csv\")\n",
    "df1 = df.loc[df[\"행복랭킹\"]<=10]\n",
    "df1 = df1.groupby('년도')['점수'].mean().sort_values(ascending=False)\n",
    "print(df1)"
   ]
  },
  {
   "cell_type": "code",
   "execution_count": 147,
   "id": "fcf83a36-afa2-4f18-b55c-c53b12b84051",
   "metadata": {},
   "outputs": [
    {
     "data": {
      "text/html": [
       "<div>\n",
       "<style scoped>\n",
       "    .dataframe tbody tr th:only-of-type {\n",
       "        vertical-align: middle;\n",
       "    }\n",
       "\n",
       "    .dataframe tbody tr th {\n",
       "        vertical-align: top;\n",
       "    }\n",
       "\n",
       "    .dataframe thead th {\n",
       "        text-align: right;\n",
       "    }\n",
       "</style>\n",
       "<table border=\"1\" class=\"dataframe\">\n",
       "  <thead>\n",
       "    <tr style=\"text-align: right;\">\n",
       "      <th></th>\n",
       "      <th></th>\n",
       "      <th>점수</th>\n",
       "    </tr>\n",
       "    <tr>\n",
       "      <th>년도</th>\n",
       "      <th>나라명</th>\n",
       "      <th></th>\n",
       "    </tr>\n",
       "  </thead>\n",
       "  <tbody>\n",
       "    <tr>\n",
       "      <th rowspan=\"5\" valign=\"top\">2018</th>\n",
       "      <th>Argentina</th>\n",
       "      <td>6.388</td>\n",
       "    </tr>\n",
       "    <tr>\n",
       "      <th>Australia</th>\n",
       "      <td>7.272</td>\n",
       "    </tr>\n",
       "    <tr>\n",
       "      <th>Austria</th>\n",
       "      <td>7.139</td>\n",
       "    </tr>\n",
       "    <tr>\n",
       "      <th>Bahrain</th>\n",
       "      <td>6.105</td>\n",
       "    </tr>\n",
       "    <tr>\n",
       "      <th>Belgium</th>\n",
       "      <td>6.927</td>\n",
       "    </tr>\n",
       "    <tr>\n",
       "      <th>...</th>\n",
       "      <th>...</th>\n",
       "      <td>...</td>\n",
       "    </tr>\n",
       "    <tr>\n",
       "      <th rowspan=\"5\" valign=\"top\">2019</th>\n",
       "      <th>United Arab Emirates</th>\n",
       "      <td>6.825</td>\n",
       "    </tr>\n",
       "    <tr>\n",
       "      <th>United Kingdom</th>\n",
       "      <td>7.054</td>\n",
       "    </tr>\n",
       "    <tr>\n",
       "      <th>United States</th>\n",
       "      <td>6.892</td>\n",
       "    </tr>\n",
       "    <tr>\n",
       "      <th>Uruguay</th>\n",
       "      <td>6.293</td>\n",
       "    </tr>\n",
       "    <tr>\n",
       "      <th>Uzbekistan</th>\n",
       "      <td>6.174</td>\n",
       "    </tr>\n",
       "  </tbody>\n",
       "</table>\n",
       "<p>100 rows × 1 columns</p>\n",
       "</div>"
      ],
      "text/plain": [
       "                              점수\n",
       "년도   나라명                        \n",
       "2018 Argentina             6.388\n",
       "     Australia             7.272\n",
       "     Austria               7.139\n",
       "     Bahrain               6.105\n",
       "     Belgium               6.927\n",
       "...                          ...\n",
       "2019 United Arab Emirates  6.825\n",
       "     United Kingdom        7.054\n",
       "     United States         6.892\n",
       "     Uruguay               6.293\n",
       "     Uzbekistan            6.174\n",
       "\n",
       "[100 rows x 1 columns]"
      ]
     },
     "metadata": {},
     "output_type": "display_data"
    }
   ],
   "source": [
    "# ② 각 연도의 행복랭킹 50위 이내의 나라들의 각각의 행복점수 평균을 데이터프레임으로 표시하시오.\n",
    "\n",
    "df2 = df.loc[df[\"행복랭킹\"]<=50]\n",
    "df2 = df2.groupby(['년도','나라명'])[['점수']].mean()\n",
    "dfs = pd.DataFrame(df2, index=df2.index, columns=[\"점수\"])\n",
    "display(dfs)"
   ]
  },
  {
   "cell_type": "code",
   "execution_count": 162,
   "id": "301ba7b6-e5c3-4fc3-86cb-07a48b0fe657",
   "metadata": {},
   "outputs": [
    {
     "name": "stdout",
     "output_type": "stream",
     "text": [
      "                                  점수\n",
      "년도   나라명                            \n",
      "2018 Burundi                   2.905\n",
      "     Central African Republic  3.083\n",
      "     South Sudan               3.254\n",
      "     Tanzania                  3.303\n",
      "     Yemen                     3.355                                   점수\n",
      "년도   나라명                            \n",
      "2019 South Sudan               2.853\n",
      "     Central African Republic  3.083\n",
      "     Afghanistan               3.203\n",
      "     Tanzania                  3.231\n",
      "     Rwanda                    3.334\n"
     ]
    }
   ],
   "source": [
    "# ③ 각 년도별 하위 행복점수의 하위 5개 국가의 평균 행복점수를 구하시오.\n",
    "\n",
    "df0 = df.loc[df[\"년도\"]==2018]\n",
    "df0 = df0.groupby(['년도','나라명'])[['점수']].mean().sort_values('점수',ascending=True).head(5)\n",
    "df1 = df.loc[df[\"년도\"]==2019]\n",
    "df1 = df1.groupby(['년도','나라명'])[['점수']].mean().sort_values('점수',ascending=True).head(5)\n",
    "\n",
    "print(df0,df1)"
   ]
  },
  {
   "cell_type": "code",
   "execution_count": 213,
   "id": "53535795-9296-4ed3-b318-626a31a11e77",
   "metadata": {},
   "outputs": [
    {
     "name": "stdout",
     "output_type": "stream",
     "text": [
      "1.390483957219251\n"
     ]
    }
   ],
   "source": [
    "# ④ 2019년 데이터를 추출하고 해당 데이터의 상대 GDP 평균 이상의 나라들과 평균 이하의 나라들의 행복점수 평균을\n",
    "# 각각 구하고 그 차이 값을 출력하시오\n",
    "\n",
    "df5 = df.loc[df[\"년도\"]==2019]\n",
    "df1 = df5.drop(['나라명'],axis=1).mean()\n",
    "GDP_HIGH = df5[\"상대GDP\"]>= GDP\n",
    "GDP_low = df5[\"상대GDP\"]<= GDP\n",
    "\n",
    "df6 = df5.loc[GDP_HIGH]\n",
    "HighMean = df6['점수'].mean()\n",
    "\n",
    "df6 = df5.loc[GDP_low]\n",
    "lowMean = df6['점수'].mean()\n",
    "\n",
    "print(HighMean-lowMean)"
   ]
  },
  {
   "cell_type": "code",
   "execution_count": 236,
   "id": "c9c1bfc2-73f1-4f86-b054-ccf51bab5e6c",
   "metadata": {},
   "outputs": [
    {
     "name": "stdout",
     "output_type": "stream",
     "text": [
      "0.018600000000000005 0.018250000000000006\n"
     ]
    }
   ],
   "source": [
    "# ⑤ 각 년도의 부패에 대한 인식을 내림차순 정렬했을 때 상위 20개 국가의 부패에 대한 인식의 평균을 구하시오.\n",
    "df0 = df.loc[df[\"년도\"]==2018]\n",
    "df1 = df0.sort_values('부패에 대한인식',ascending=True)\n",
    "\n",
    "df2 = df.loc[df[\"년도\"]==2019]\n",
    "df3 = df2.sort_values('부패에 대한인식',ascending=True)\n",
    "\n",
    "print(df1[\"부패에 대한인식\"].head(20).mean(),df3[\"부패에 대한인식\"].head(20).mean())"
   ]
  }
 ],
 "metadata": {
  "kernelspec": {
   "display_name": "Python 3 (ipykernel)",
   "language": "python",
   "name": "python3"
  },
  "language_info": {
   "codemirror_mode": {
    "name": "ipython",
    "version": 3
   },
   "file_extension": ".py",
   "mimetype": "text/x-python",
   "name": "python",
   "nbconvert_exporter": "python",
   "pygments_lexer": "ipython3",
   "version": "3.11.7"
  }
 },
 "nbformat": 4,
 "nbformat_minor": 5
}
