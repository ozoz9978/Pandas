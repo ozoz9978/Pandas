{
 "cells": [
  {
   "cell_type": "markdown",
   "id": "7794ffb3",
   "metadata": {},
   "source": [
    "# 품목별 수출입실적 분석\n",
    "- 데이터 읽기 (0~3행 skip)\n",
    "- 상위 5개 데이터 확인하기\n",
    "- 불필요한 행 삭제 및 인덱스 초기화\n",
    "  - 0, 485 행 : '총계', '설명' 에 해당하는 row 삭제\n",
    "  - 인덱스를 0부터 초기화\n",
    "- 컬럼 데이터 타입 변경\n",
    "  - 수출중량~무역수지 : Object 타입 ==> float으로 데이터 타입 변경\n",
    "- 연도별 무역수지 평균 및 합계\n",
    "- 연도별 무역수지가 가장 적은 품목은?"
   ]
  },
  {
   "cell_type": "code",
   "execution_count": null,
   "id": "e7b3ef73-915a-43a5-8ee7-49b4d909c319",
   "metadata": {},
   "outputs": [],
   "source": []
  },
  {
   "cell_type": "code",
   "execution_count": null,
   "id": "6e64df5a-b89b-48cb-bbfe-513b14acd689",
   "metadata": {},
   "outputs": [],
   "source": []
  },
  {
   "cell_type": "code",
   "execution_count": null,
   "id": "a6318aff-de59-47c7-8c31-9809bdfa120b",
   "metadata": {},
   "outputs": [],
   "source": []
  },
  {
   "cell_type": "code",
   "execution_count": null,
   "id": "35086791-913a-4d2f-bbe5-608af03ff03c",
   "metadata": {},
   "outputs": [],
   "source": []
  },
  {
   "cell_type": "code",
   "execution_count": null,
   "id": "14cca805-b50c-46b9-80fe-407fb5a9337e",
   "metadata": {},
   "outputs": [],
   "source": []
  },
  {
   "cell_type": "code",
   "execution_count": null,
   "id": "b4770a15-1d57-4d85-8fee-7ebc768374c9",
   "metadata": {},
   "outputs": [],
   "source": []
  },
  {
   "cell_type": "code",
   "execution_count": null,
   "id": "5d447da4-eba0-4b37-8b3c-66763b5c9408",
   "metadata": {},
   "outputs": [],
   "source": []
  },
  {
   "cell_type": "code",
   "execution_count": null,
   "id": "aa733429-a00a-468f-a828-4ec7bc9e95ab",
   "metadata": {},
   "outputs": [],
   "source": []
  },
  {
   "cell_type": "code",
   "execution_count": null,
   "id": "3440904c-d0d3-4a8f-bef7-36562b14018e",
   "metadata": {},
   "outputs": [],
   "source": []
  },
  {
   "cell_type": "code",
   "execution_count": null,
   "id": "7b1a99d3-24e4-4a10-bc81-e155b35d6c1f",
   "metadata": {},
   "outputs": [],
   "source": []
  }
 ],
 "metadata": {
  "kernelspec": {
   "display_name": "Python 3 (ipykernel)",
   "language": "python",
   "name": "python3"
  },
  "language_info": {
   "codemirror_mode": {
    "name": "ipython",
    "version": 3
   },
   "file_extension": ".py",
   "mimetype": "text/x-python",
   "name": "python",
   "nbconvert_exporter": "python",
   "pygments_lexer": "ipython3",
   "version": "3.11.4"
  },
  "toc": {
   "base_numbering": 1,
   "nav_menu": {},
   "number_sections": true,
   "sideBar": true,
   "skip_h1_title": false,
   "title_cell": "Table of Contents",
   "title_sidebar": "Contents",
   "toc_cell": false,
   "toc_position": {
    "height": "calc(100% - 180px)",
    "left": "10px",
    "top": "150px",
    "width": "384px"
   },
   "toc_section_display": true,
   "toc_window_display": false
  }
 },
 "nbformat": 4,
 "nbformat_minor": 5
}
