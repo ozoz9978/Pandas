{
 "cells": [
  {
   "cell_type": "markdown",
   "metadata": {},
   "source": [
    "# 국가별 알콜 섭취량 데이터 분석\n",
    "- 데이터 읽기\n",
    "- 데이터 정보 확인\n",
    "- 컬럼명 한글로 변경\n",
    "    - 원본 데이터 컬럼 정보\n",
    "    - country : 국가명\n",
    "    - beer_servings : 맥주 소비량\n",
    "    - spirit_servings : 증류주 소비량(독주, 알코올 함량 20% 이상의 설탕을 첨가하지 않은 증류주)\n",
    "    - wine_servings : 와인 소비량\n",
    "    - total_litres_of_pure_alcohol : 순수 알코올\n",
    "    - continent : 대륙\n",
    "- 결측치 확인\n",
    "    - `대륙`에 대한 정보가 부족한 것을 확인할 수 있다.\n",
    "    - drinks.csv 파일을 열어 원인을 확인한다.\n",
    "    - 대륙의 종류\n",
    "        - 아시아, 유럽, 아프리카, 북아메리카, 남아메리카, 오세아니아\n",
    "        - AS, EU, AF, NA, SA, OC\n",
    "- 결측치 해결\n",
    "    - 'NA'를 NaN(결측치)로 읽는 것을 방지\n",
    "    - pd.read_csv 함수의 na_filter=False 파라메터 : 결측치를 읽어올지 여부 지정\n",
    "    - 옵션 확인 : https://pandas.pydata.org/pandas-docs/stable/reference/api/pandas.read_csv.html \n",
    "- 통계값 구하기\n",
    "    - 전세계 맥주, 증류주, 와인, 알코올의 소비에 대한 '평균', '최대값', '최소값' 구하기\n",
    "- 주류 소비량 비교\n",
    "    - 와인 소비량이 맥주 + 증류주 소비량보다 큰 나라를 검색해,'대륙'을 기준으로 정렬\n",
    "    - 맥주 소비량이 230 초과이면서, 와인 소비량이 230 초과인 나라를 검색\n",
    "    - 전체 평균보다 많은 알코올을 섭취하는 대륙과 알코올 평균 소비량 검색\n",
    "    - 맥주를 가장 많이 소비하는 국가 확인\n",
    "    - 증류주를 가장 많이 소비하는 국가 확인\n",
    "    - 평균 맥주 소비량이 가장 많은 대륙 확인\n",
    "- 데이터 프레임 조작\n",
    "    - 국가별 주류 소비량 합계를 구해 새로운 컬럼 ('주류소비량') 추가\n",
    "    - 주류 소비량 대비 알코올 소비량 비율을 구해 새로운 컬럼 ('알코올비율') 추가\n",
    "        - 알코올비율 = '알코올' / '주류소비량'\n",
    "        - 알코올비율'이 NaN인 것에 대해 0으로 채우기\n",
    "    - 알코올비율이 높은 국가(술을 독하게 마시는 국가) TOP5의 ['국가', '주류소비량', '알코올비율'] 정보 조회\n",
    "    - DataFrame의 index를 ['대륙', '국가'] 로 지정하고, 대륙별, 국가명으로  정렬하여 df로 저장\n",
    "    - 전세계 평균 소비량과 한국의 소비량을 비교하는 DataFrame 만들기\n",
    "        <pre>\n",
    "               맥주\t    증류주\t     와인\t      알코올\t  주류소비량\t알코올비율\n",
    "     국가\t\t\t\t\t\t\n",
    "South Korea\t140.000000\t16.000000\t9.000000\t9.800000\t165.000000\t0.059394\n",
    "World Wide\t106.160622\t80.994819\t49.450777\t4.717098\t236.606218\t0.026115\n",
    "</pre>\n",
    "    - pivot_table을 사용하여 대륙별(index), '맥주'와 '와인'의 mean, median, max 값을 구한다."
   ]
  },
  {
   "cell_type": "markdown",
   "metadata": {
    "id": "SozIW1fDPRSN"
   },
   "source": [
    "## 데이터 읽기\n",
    "csv 파일 가져오기 \n",
    "- csv 파일은 컬럼 구분이 콤마(,) 로 이루어진 파일\n",
    "- df = pd.read_csv(파일이름) : csv 형식의 파일을 읽어 DataFrame 객체로 가져옴\n",
    "- DataFrame.to_csv(파일이름, index=True) : DataFrame을 csv 파일로 저장, index는 제외하고 저장하기 위해서는 index=False로 지정"
   ]
  },
  {
   "cell_type": "markdown",
   "metadata": {},
   "source": [
    "## 컬럼명 한글로 변경"
   ]
  },
  {
   "cell_type": "markdown",
   "metadata": {},
   "source": [
    "## 결측치 확인"
   ]
  },
  {
   "cell_type": "markdown",
   "metadata": {
    "id": "ktAXpj5kTdWo"
   },
   "source": [
    "## 결측치 해결\n",
    "\n",
    "- 'NA'를 NaN(결측치)로 읽는 것을 방지\n",
    "    - pd.read_csv(파일이름, na_filter=False) : 결측치를 읽어올지 여부 지정\n",
    "    - 옵션 확인 : https://pandas.pydata.org/pandas-docs/stable/reference/api/pandas.read_csv.html \n",
    "\n",
    "\n",
    "- 결측치를 다른 값으로 채우기 함\n",
    "    - DataFrame.fillna(값) 또는 Series.fillna(값) : 결측값을 특정 값으로 채우기 \n",
    "    - 연속형 데이터 : 0으로 채우기, 평균값으로 채우기, 범주별 평균값 채우기 등\n",
    "    - 범주형 데이터 : 다른 범주로 만들어 채우기 "
   ]
  },
  {
   "cell_type": "markdown",
   "metadata": {
    "id": "mX3i4ZqhfEJl"
   },
   "source": [
    "## 통계값 구하기\n",
    "- DataFrame.describe() : 컬럼별 count, mean, std, min, max, Q1, Q2, Q3 등의 통계값 구하기"
   ]
  },
  {
   "cell_type": "markdown",
   "metadata": {
    "id": "Edwj1tnZhBTv"
   },
   "source": [
    "## 주류 소비량 비교\n",
    "\n"
   ]
  },
  {
   "cell_type": "markdown",
   "metadata": {},
   "source": [
    "## 데이터 프레임 조작"
   ]
  },
  {
   "cell_type": "markdown",
   "metadata": {
    "id": "_ZWAnH92jLHe"
   },
   "source": [
    "## 맥주 소비량"
   ]
  }
 ],
 "metadata": {
  "colab": {
   "collapsed_sections": [],
   "name": "3_drink.ipynb",
   "provenance": [
    {
     "file_id": "18U4JQ20tFk5wWa6dHCVQCbHMQL4Y3NxR",
     "timestamp": 1634889253902
    },
    {
     "file_id": "1_LEf1wc3OeN9tp-KZc4jlhcbHJDU7J6_",
     "timestamp": 1632807665307
    }
   ]
  },
  "kernelspec": {
   "display_name": "Python 3 (ipykernel)",
   "language": "python",
   "name": "python3"
  },
  "language_info": {
   "codemirror_mode": {
    "name": "ipython",
    "version": 3
   },
   "file_extension": ".py",
   "mimetype": "text/x-python",
   "name": "python",
   "nbconvert_exporter": "python",
   "pygments_lexer": "ipython3",
   "version": "3.9.13"
  },
  "toc": {
   "base_numbering": 1,
   "nav_menu": {},
   "number_sections": true,
   "sideBar": true,
   "skip_h1_title": false,
   "title_cell": "Table of Contents",
   "title_sidebar": "Contents",
   "toc_cell": false,
   "toc_position": {
    "height": "calc(100% - 180px)",
    "left": "10px",
    "top": "150px",
    "width": "304.469px"
   },
   "toc_section_display": true,
   "toc_window_display": false
  }
 },
 "nbformat": 4,
 "nbformat_minor": 1
}
