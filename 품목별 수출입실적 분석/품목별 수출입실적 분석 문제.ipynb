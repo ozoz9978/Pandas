{
 "cells": [
  {
   "cell_type": "markdown",
   "id": "7794ffb3",
   "metadata": {},
   "source": [
    "# 품목별 수출입실적 분석\n",
    "- 데이터 읽기 (0~3행 skip)\n",
    "- 상위 5개 데이터 확인하기\n",
    "- 불필요한 행 삭제 및 인덱스 초기화\n",
    "  - 0, 485 행 : '총계', '설명' 에 해당하는 row 삭제\n",
    "  - 인덱스를 0부터 초기화\n",
    "- 컬럼 데이터 타입 변경\n",
    "  - 수출중량~무역수지 : Object 타입 ==> float으로 데이터 타입 변경\n",
    "- 연도별 무역수지 평균 및 합계\n",
    "- 연도별 무역수지가 가장 적은 품목은?"
   ]
  },
  {
   "cell_type": "code",
   "execution_count": 103,
   "id": "e7b3ef73-915a-43a5-8ee7-49b4d909c319",
   "metadata": {
    "scrolled": true
   },
   "outputs": [
    {
     "name": "stdout",
     "output_type": "stream",
     "text": [
      "<class 'pandas.core.frame.DataFrame'>\n",
      "RangeIndex: 484 entries, 0 to 483\n",
      "Data columns (total 8 columns):\n",
      " #   Column  Non-Null Count  Dtype  \n",
      "---  ------  --------------  -----  \n",
      " 0   기간      484 non-null    object \n",
      " 1   품목명     484 non-null    object \n",
      " 2   품목코드    484 non-null    float64\n",
      " 3   수출중량    484 non-null    float64\n",
      " 4   수입중량    484 non-null    float64\n",
      " 5   수출금액    484 non-null    float64\n",
      " 6   수입금액    484 non-null    float64\n",
      " 7   무역수지    484 non-null    float64\n",
      "dtypes: float64(6), object(2)\n",
      "memory usage: 30.4+ KB\n",
      "None\n",
      "               무역수지            \n",
      "               mean         sum\n",
      "기간                             \n",
      "2018  713677.484536  69226716.0\n",
      "2019  398311.340206  38636200.0\n",
      "2020  459889.391753  44609271.0\n",
      "2021  298289.474227  28934079.0\n",
      "2022 -500323.916667 -48031096.0\n",
      "          평균 무역수지          총 무역수지\n",
      "기간                               \n",
      "2018   713,677.48   69,226,716.00\n",
      "2019   398,311.34   38,636,200.00\n",
      "2020   459,889.39   44,609,271.00\n",
      "2021   298,289.47   28,934,079.00\n",
      "2022  -500,323.92  -48,031,096.00\n",
      "                                           품목명        무역수지\n",
      "26  광물성 연료ㆍ광물유(鑛物油)와 이들의 증류물, 역청(瀝靑)물질, 광물성 왁스 -98964778.0\n",
      "                                            품목명        무역수지\n",
      "123  광물성 연료ㆍ광물유(鑛物油)와 이들의 증류물, 역청(瀝靑)물질, 광물성 왁스 -85162279.0\n",
      "                                            품목명        무역수지\n",
      "220  광물성 연료ㆍ광물유(鑛物油)와 이들의 증류물, 역청(瀝靑)물질, 광물성 왁스 -61119425.0\n",
      "                                            품목명        무역수지\n",
      "317  광물성 연료ㆍ광물유(鑛物油)와 이들의 증류물, 역청(瀝靑)물질, 광물성 왁스 -97560443.0\n",
      "                                            품목명         무역수지\n",
      "414  광물성 연료ㆍ광물유(鑛物油)와 이들의 증류물, 역청(瀝靑)물질, 광물성 왁스 -153720416.0\n"
     ]
    },
    {
     "name": "stderr",
     "output_type": "stream",
     "text": [
      "C:\\Users\\user\\AppData\\Local\\Temp\\ipykernel_6312\\1448633021.py:29: FutureWarning: DataFrame.applymap has been deprecated. Use DataFrame.map instead.\n",
      "  grouped = grouped.applymap(lambda x: f'{x:,.2f}')\n"
     ]
    }
   ],
   "source": [
    "import pandas as pd\n",
    "import numpy as np\n",
    "\n",
    "# 데이터 읽기 (0~3행 skip)\n",
    "df = pd.read_excel(\"drinks.csv\")\n",
    "\n",
    "\n",
    "for col in df.columns[3:]:\n",
    "    df[col] = df[col].str.replace(',','').astype(float)\n",
    "print(df.info())\n",
    "\n",
    "#기간별 데이터 수 확인\n",
    "df['기간'].value_counts()\n",
    "\n",
    "# 연도별 무역수지 평균 및 합계\n",
    "grouped = df.groupby('기간')[['무역수지']].agg(['mean','sum'])\n",
    "print(grouped)\n",
    "\n",
    "#열 이름 바꾸기\n",
    "grouped.columns = ['평균 무역수지', '총 무역수지']\n",
    "\n",
    "# 숫자 형식 지정\n",
    "grouped = grouped.applymap(lambda x: f'{x:,.2f}')\n",
    "print(grouped)\n",
    "\n",
    "df.sort_values(['기간','무역수지']).groupby('기간').head(1)\n",
    "# # 연도별 무역수지가 가장 적은 품목은?\n",
    "grouped = df.groupby('기간')[['품목명','무역수지']]\n",
    "for year, group in grouped:\n",
    "    print(group.sort_values('무역수지').head(1))\n"
   ]
  },
  {
   "cell_type": "code",
   "execution_count": null,
   "id": "6e64df5a-b89b-48cb-bbfe-513b14acd689",
   "metadata": {},
   "outputs": [],
   "source": []
  },
  {
   "cell_type": "code",
   "execution_count": null,
   "id": "a6318aff-de59-47c7-8c31-9809bdfa120b",
   "metadata": {},
   "outputs": [],
   "source": []
  },
  {
   "cell_type": "code",
   "execution_count": null,
   "id": "35086791-913a-4d2f-bbe5-608af03ff03c",
   "metadata": {},
   "outputs": [],
   "source": []
  },
  {
   "cell_type": "code",
   "execution_count": null,
   "id": "14cca805-b50c-46b9-80fe-407fb5a9337e",
   "metadata": {},
   "outputs": [],
   "source": []
  },
  {
   "cell_type": "code",
   "execution_count": null,
   "id": "b4770a15-1d57-4d85-8fee-7ebc768374c9",
   "metadata": {},
   "outputs": [],
   "source": []
  },
  {
   "cell_type": "code",
   "execution_count": null,
   "id": "5d447da4-eba0-4b37-8b3c-66763b5c9408",
   "metadata": {},
   "outputs": [],
   "source": []
  },
  {
   "cell_type": "code",
   "execution_count": null,
   "id": "aa733429-a00a-468f-a828-4ec7bc9e95ab",
   "metadata": {},
   "outputs": [],
   "source": []
  },
  {
   "cell_type": "code",
   "execution_count": null,
   "id": "3440904c-d0d3-4a8f-bef7-36562b14018e",
   "metadata": {},
   "outputs": [],
   "source": []
  },
  {
   "cell_type": "code",
   "execution_count": null,
   "id": "7b1a99d3-24e4-4a10-bc81-e155b35d6c1f",
   "metadata": {},
   "outputs": [],
   "source": []
  }
 ],
 "metadata": {
  "kernelspec": {
   "display_name": "Python 3 (ipykernel)",
   "language": "python",
   "name": "python3"
  },
  "language_info": {
   "codemirror_mode": {
    "name": "ipython",
    "version": 3
   },
   "file_extension": ".py",
   "mimetype": "text/x-python",
   "name": "python",
   "nbconvert_exporter": "python",
   "pygments_lexer": "ipython3",
   "version": "3.11.7"
  },
  "toc": {
   "base_numbering": 1,
   "nav_menu": {},
   "number_sections": true,
   "sideBar": true,
   "skip_h1_title": false,
   "title_cell": "Table of Contents",
   "title_sidebar": "Contents",
   "toc_cell": false,
   "toc_position": {
    "height": "calc(100% - 180px)",
    "left": "10px",
    "top": "150px",
    "width": "384px"
   },
   "toc_section_display": true,
   "toc_window_display": false
  }
 },
 "nbformat": 4,
 "nbformat_minor": 5
}
